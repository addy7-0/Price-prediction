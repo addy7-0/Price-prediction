{
 "cells": [
  {
   "cell_type": "code",
   "execution_count": 1,
   "id": "254007bf",
   "metadata": {
    "execution": {
     "iopub.execute_input": "2022-07-22T12:10:34.078743Z",
     "iopub.status.busy": "2022-07-22T12:10:34.078334Z",
     "iopub.status.idle": "2022-07-22T12:10:34.090194Z",
     "shell.execute_reply": "2022-07-22T12:10:34.089264Z"
    },
    "papermill": {
     "duration": 0.028103,
     "end_time": "2022-07-22T12:10:34.092656",
     "exception": false,
     "start_time": "2022-07-22T12:10:34.064553",
     "status": "completed"
    },
    "tags": []
   },
   "outputs": [],
   "source": [
    "import numpy as np\n",
    "import pandas as pd\n",
    "import matplotlib.pyplot as plt"
   ]
  },
  {
   "cell_type": "code",
   "execution_count": 2,
   "id": "ebb0a52d",
   "metadata": {
    "execution": {
     "iopub.execute_input": "2022-07-22T12:10:34.116494Z",
     "iopub.status.busy": "2022-07-22T12:10:34.115885Z",
     "iopub.status.idle": "2022-07-22T12:10:34.199292Z",
     "shell.execute_reply": "2022-07-22T12:10:34.198171Z"
    },
    "papermill": {
     "duration": 0.098408,
     "end_time": "2022-07-22T12:10:34.201948",
     "exception": false,
     "start_time": "2022-07-22T12:10:34.103540",
     "status": "completed"
    },
    "tags": []
   },
   "outputs": [],
   "source": [
    "df= pd.read_csv(\"../input/dataset/train.csv\")"
   ]
  },
  {
   "cell_type": "code",
   "execution_count": 3,
   "id": "0fe99a08",
   "metadata": {
    "execution": {
     "iopub.execute_input": "2022-07-22T12:10:34.225219Z",
     "iopub.status.busy": "2022-07-22T12:10:34.224350Z",
     "iopub.status.idle": "2022-07-22T12:10:34.251870Z",
     "shell.execute_reply": "2022-07-22T12:10:34.251075Z"
    },
    "papermill": {
     "duration": 0.042186,
     "end_time": "2022-07-22T12:10:34.254679",
     "exception": false,
     "start_time": "2022-07-22T12:10:34.212493",
     "status": "completed"
    },
    "tags": []
   },
   "outputs": [
    {
     "data": {
      "text/html": [
       "<div>\n",
       "<style scoped>\n",
       "    .dataframe tbody tr th:only-of-type {\n",
       "        vertical-align: middle;\n",
       "    }\n",
       "\n",
       "    .dataframe tbody tr th {\n",
       "        vertical-align: top;\n",
       "    }\n",
       "\n",
       "    .dataframe thead th {\n",
       "        text-align: right;\n",
       "    }\n",
       "</style>\n",
       "<table border=\"1\" class=\"dataframe\">\n",
       "  <thead>\n",
       "    <tr style=\"text-align: right;\">\n",
       "      <th></th>\n",
       "      <th>id</th>\n",
       "      <th>title</th>\n",
       "      <th>Rating</th>\n",
       "      <th>maincateg</th>\n",
       "      <th>platform</th>\n",
       "      <th>price1</th>\n",
       "      <th>actprice1</th>\n",
       "      <th>Offer %</th>\n",
       "      <th>norating1</th>\n",
       "      <th>noreviews1</th>\n",
       "      <th>star_5f</th>\n",
       "      <th>star_4f</th>\n",
       "      <th>star_3f</th>\n",
       "      <th>star_2f</th>\n",
       "      <th>star_1f</th>\n",
       "      <th>fulfilled1</th>\n",
       "    </tr>\n",
       "  </thead>\n",
       "  <tbody>\n",
       "    <tr>\n",
       "      <th>0</th>\n",
       "      <td>16695</td>\n",
       "      <td>Fashionable &amp; Comfortable Bellies For Women  (...</td>\n",
       "      <td>3.9</td>\n",
       "      <td>Women</td>\n",
       "      <td>Flipkart</td>\n",
       "      <td>698</td>\n",
       "      <td>999</td>\n",
       "      <td>30.13%</td>\n",
       "      <td>38.0</td>\n",
       "      <td>7.0</td>\n",
       "      <td>17.0</td>\n",
       "      <td>9.0</td>\n",
       "      <td>6.0</td>\n",
       "      <td>3</td>\n",
       "      <td>3</td>\n",
       "      <td>0</td>\n",
       "    </tr>\n",
       "    <tr>\n",
       "      <th>1</th>\n",
       "      <td>5120</td>\n",
       "      <td>Combo Pack of 4 Casual Shoes Sneakers For Men ...</td>\n",
       "      <td>3.8</td>\n",
       "      <td>Men</td>\n",
       "      <td>Flipkart</td>\n",
       "      <td>999</td>\n",
       "      <td>1999</td>\n",
       "      <td>50.03%</td>\n",
       "      <td>531.0</td>\n",
       "      <td>69.0</td>\n",
       "      <td>264.0</td>\n",
       "      <td>92.0</td>\n",
       "      <td>73.0</td>\n",
       "      <td>29</td>\n",
       "      <td>73</td>\n",
       "      <td>1</td>\n",
       "    </tr>\n",
       "    <tr>\n",
       "      <th>2</th>\n",
       "      <td>18391</td>\n",
       "      <td>Cilia Mode Leo Sneakers For Women  (White)</td>\n",
       "      <td>4.4</td>\n",
       "      <td>Women</td>\n",
       "      <td>Flipkart</td>\n",
       "      <td>2749</td>\n",
       "      <td>4999</td>\n",
       "      <td>45.01%</td>\n",
       "      <td>17.0</td>\n",
       "      <td>4.0</td>\n",
       "      <td>11.0</td>\n",
       "      <td>3.0</td>\n",
       "      <td>2.0</td>\n",
       "      <td>1</td>\n",
       "      <td>0</td>\n",
       "      <td>1</td>\n",
       "    </tr>\n",
       "    <tr>\n",
       "      <th>3</th>\n",
       "      <td>495</td>\n",
       "      <td>Men Black Sports Sandal</td>\n",
       "      <td>4.2</td>\n",
       "      <td>Men</td>\n",
       "      <td>Flipkart</td>\n",
       "      <td>518</td>\n",
       "      <td>724</td>\n",
       "      <td>15.85%</td>\n",
       "      <td>46413.0</td>\n",
       "      <td>6229.0</td>\n",
       "      <td>1045.0</td>\n",
       "      <td>12416.0</td>\n",
       "      <td>5352.0</td>\n",
       "      <td>701</td>\n",
       "      <td>4595</td>\n",
       "      <td>1</td>\n",
       "    </tr>\n",
       "    <tr>\n",
       "      <th>4</th>\n",
       "      <td>16408</td>\n",
       "      <td>Men Green Sports Sandal</td>\n",
       "      <td>3.9</td>\n",
       "      <td>Men</td>\n",
       "      <td>Flipkart</td>\n",
       "      <td>1379</td>\n",
       "      <td>2299</td>\n",
       "      <td>40.02%</td>\n",
       "      <td>77.0</td>\n",
       "      <td>3.0</td>\n",
       "      <td>35.0</td>\n",
       "      <td>21.0</td>\n",
       "      <td>7.0</td>\n",
       "      <td>7</td>\n",
       "      <td>7</td>\n",
       "      <td>1</td>\n",
       "    </tr>\n",
       "  </tbody>\n",
       "</table>\n",
       "</div>"
      ],
      "text/plain": [
       "      id                                              title  Rating maincateg  \\\n",
       "0  16695  Fashionable & Comfortable Bellies For Women  (...     3.9     Women   \n",
       "1   5120  Combo Pack of 4 Casual Shoes Sneakers For Men ...     3.8       Men   \n",
       "2  18391         Cilia Mode Leo Sneakers For Women  (White)     4.4     Women   \n",
       "3    495                            Men Black Sports Sandal     4.2       Men   \n",
       "4  16408                            Men Green Sports Sandal     3.9       Men   \n",
       "\n",
       "   platform  price1  actprice1 Offer %  norating1  noreviews1  star_5f  \\\n",
       "0  Flipkart     698        999  30.13%       38.0         7.0     17.0   \n",
       "1  Flipkart     999       1999  50.03%      531.0        69.0    264.0   \n",
       "2  Flipkart    2749       4999  45.01%       17.0         4.0     11.0   \n",
       "3  Flipkart     518        724  15.85%    46413.0      6229.0   1045.0   \n",
       "4  Flipkart    1379       2299  40.02%       77.0         3.0     35.0   \n",
       "\n",
       "   star_4f  star_3f  star_2f  star_1f  fulfilled1  \n",
       "0      9.0      6.0        3        3           0  \n",
       "1     92.0     73.0       29       73           1  \n",
       "2      3.0      2.0        1        0           1  \n",
       "3  12416.0   5352.0      701     4595           1  \n",
       "4     21.0      7.0        7        7           1  "
      ]
     },
     "execution_count": 3,
     "metadata": {},
     "output_type": "execute_result"
    }
   ],
   "source": [
    "df.head()"
   ]
  },
  {
   "cell_type": "code",
   "execution_count": 4,
   "id": "4e82a4ca",
   "metadata": {
    "execution": {
     "iopub.execute_input": "2022-07-22T12:10:34.278874Z",
     "iopub.status.busy": "2022-07-22T12:10:34.278289Z",
     "iopub.status.idle": "2022-07-22T12:10:34.298765Z",
     "shell.execute_reply": "2022-07-22T12:10:34.297699Z"
    },
    "papermill": {
     "duration": 0.035266,
     "end_time": "2022-07-22T12:10:34.301072",
     "exception": false,
     "start_time": "2022-07-22T12:10:34.265806",
     "status": "completed"
    },
    "tags": []
   },
   "outputs": [
    {
     "data": {
      "text/html": [
       "<div>\n",
       "<style scoped>\n",
       "    .dataframe tbody tr th:only-of-type {\n",
       "        vertical-align: middle;\n",
       "    }\n",
       "\n",
       "    .dataframe tbody tr th {\n",
       "        vertical-align: top;\n",
       "    }\n",
       "\n",
       "    .dataframe thead th {\n",
       "        text-align: right;\n",
       "    }\n",
       "</style>\n",
       "<table border=\"1\" class=\"dataframe\">\n",
       "  <thead>\n",
       "    <tr style=\"text-align: right;\">\n",
       "      <th></th>\n",
       "      <th>id</th>\n",
       "      <th>title</th>\n",
       "      <th>Rating</th>\n",
       "      <th>maincateg</th>\n",
       "      <th>platform</th>\n",
       "      <th>price1</th>\n",
       "      <th>actprice1</th>\n",
       "      <th>Offer %</th>\n",
       "      <th>norating1</th>\n",
       "      <th>noreviews1</th>\n",
       "      <th>star_5f</th>\n",
       "      <th>star_4f</th>\n",
       "      <th>star_3f</th>\n",
       "      <th>star_2f</th>\n",
       "      <th>star_1f</th>\n",
       "      <th>fulfilled1</th>\n",
       "    </tr>\n",
       "  </thead>\n",
       "  <tbody>\n",
       "    <tr>\n",
       "      <th>0</th>\n",
       "      <td>16695</td>\n",
       "      <td>Fashionable &amp; Comfortable Bellies For Women  (...</td>\n",
       "      <td>3.9</td>\n",
       "      <td>Women</td>\n",
       "      <td>Flipkart</td>\n",
       "      <td>698</td>\n",
       "      <td>999</td>\n",
       "      <td>30.13%</td>\n",
       "      <td>38.0</td>\n",
       "      <td>7.0</td>\n",
       "      <td>17.0</td>\n",
       "      <td>9.0</td>\n",
       "      <td>6.0</td>\n",
       "      <td>3</td>\n",
       "      <td>3</td>\n",
       "      <td>0</td>\n",
       "    </tr>\n",
       "    <tr>\n",
       "      <th>1</th>\n",
       "      <td>5120</td>\n",
       "      <td>Combo Pack of 4 Casual Shoes Sneakers For Men ...</td>\n",
       "      <td>3.8</td>\n",
       "      <td>Men</td>\n",
       "      <td>Flipkart</td>\n",
       "      <td>999</td>\n",
       "      <td>1999</td>\n",
       "      <td>50.03%</td>\n",
       "      <td>531.0</td>\n",
       "      <td>69.0</td>\n",
       "      <td>264.0</td>\n",
       "      <td>92.0</td>\n",
       "      <td>73.0</td>\n",
       "      <td>29</td>\n",
       "      <td>73</td>\n",
       "      <td>1</td>\n",
       "    </tr>\n",
       "    <tr>\n",
       "      <th>2</th>\n",
       "      <td>18391</td>\n",
       "      <td>Cilia Mode Leo Sneakers For Women  (White)</td>\n",
       "      <td>4.4</td>\n",
       "      <td>Women</td>\n",
       "      <td>Flipkart</td>\n",
       "      <td>2749</td>\n",
       "      <td>4999</td>\n",
       "      <td>45.01%</td>\n",
       "      <td>17.0</td>\n",
       "      <td>4.0</td>\n",
       "      <td>11.0</td>\n",
       "      <td>3.0</td>\n",
       "      <td>2.0</td>\n",
       "      <td>1</td>\n",
       "      <td>0</td>\n",
       "      <td>1</td>\n",
       "    </tr>\n",
       "    <tr>\n",
       "      <th>3</th>\n",
       "      <td>495</td>\n",
       "      <td>Men Black Sports Sandal</td>\n",
       "      <td>4.2</td>\n",
       "      <td>Men</td>\n",
       "      <td>Flipkart</td>\n",
       "      <td>518</td>\n",
       "      <td>724</td>\n",
       "      <td>15.85%</td>\n",
       "      <td>46413.0</td>\n",
       "      <td>6229.0</td>\n",
       "      <td>1045.0</td>\n",
       "      <td>12416.0</td>\n",
       "      <td>5352.0</td>\n",
       "      <td>701</td>\n",
       "      <td>4595</td>\n",
       "      <td>1</td>\n",
       "    </tr>\n",
       "    <tr>\n",
       "      <th>4</th>\n",
       "      <td>16408</td>\n",
       "      <td>Men Green Sports Sandal</td>\n",
       "      <td>3.9</td>\n",
       "      <td>Men</td>\n",
       "      <td>Flipkart</td>\n",
       "      <td>1379</td>\n",
       "      <td>2299</td>\n",
       "      <td>40.02%</td>\n",
       "      <td>77.0</td>\n",
       "      <td>3.0</td>\n",
       "      <td>35.0</td>\n",
       "      <td>21.0</td>\n",
       "      <td>7.0</td>\n",
       "      <td>7</td>\n",
       "      <td>7</td>\n",
       "      <td>1</td>\n",
       "    </tr>\n",
       "  </tbody>\n",
       "</table>\n",
       "</div>"
      ],
      "text/plain": [
       "      id                                              title  Rating maincateg  \\\n",
       "0  16695  Fashionable & Comfortable Bellies For Women  (...     3.9     Women   \n",
       "1   5120  Combo Pack of 4 Casual Shoes Sneakers For Men ...     3.8       Men   \n",
       "2  18391         Cilia Mode Leo Sneakers For Women  (White)     4.4     Women   \n",
       "3    495                            Men Black Sports Sandal     4.2       Men   \n",
       "4  16408                            Men Green Sports Sandal     3.9       Men   \n",
       "\n",
       "   platform  price1  actprice1 Offer %  norating1  noreviews1  star_5f  \\\n",
       "0  Flipkart     698        999  30.13%       38.0         7.0     17.0   \n",
       "1  Flipkart     999       1999  50.03%      531.0        69.0    264.0   \n",
       "2  Flipkart    2749       4999  45.01%       17.0         4.0     11.0   \n",
       "3  Flipkart     518        724  15.85%    46413.0      6229.0   1045.0   \n",
       "4  Flipkart    1379       2299  40.02%       77.0         3.0     35.0   \n",
       "\n",
       "   star_4f  star_3f  star_2f  star_1f  fulfilled1  \n",
       "0      9.0      6.0        3        3           0  \n",
       "1     92.0     73.0       29       73           1  \n",
       "2      3.0      2.0        1        0           1  \n",
       "3  12416.0   5352.0      701     4595           1  \n",
       "4     21.0      7.0        7        7           1  "
      ]
     },
     "execution_count": 4,
     "metadata": {},
     "output_type": "execute_result"
    }
   ],
   "source": [
    "#df.drop(['title','id'],axis=1, inplace=True)\n",
    "df.head()"
   ]
  },
  {
   "cell_type": "code",
   "execution_count": 5,
   "id": "87f73666",
   "metadata": {
    "execution": {
     "iopub.execute_input": "2022-07-22T12:10:34.326115Z",
     "iopub.status.busy": "2022-07-22T12:10:34.325713Z",
     "iopub.status.idle": "2022-07-22T12:10:34.331777Z",
     "shell.execute_reply": "2022-07-22T12:10:34.331055Z"
    },
    "papermill": {
     "duration": 0.021437,
     "end_time": "2022-07-22T12:10:34.333870",
     "exception": false,
     "start_time": "2022-07-22T12:10:34.312433",
     "status": "completed"
    },
    "tags": []
   },
   "outputs": [
    {
     "data": {
      "text/plain": [
       "(15730, 16)"
      ]
     },
     "execution_count": 5,
     "metadata": {},
     "output_type": "execute_result"
    }
   ],
   "source": [
    "df.shape"
   ]
  },
  {
   "cell_type": "code",
   "execution_count": 6,
   "id": "b02df2b4",
   "metadata": {
    "execution": {
     "iopub.execute_input": "2022-07-22T12:10:34.358978Z",
     "iopub.status.busy": "2022-07-22T12:10:34.358317Z",
     "iopub.status.idle": "2022-07-22T12:10:34.368544Z",
     "shell.execute_reply": "2022-07-22T12:10:34.367414Z"
    },
    "papermill": {
     "duration": 0.025895,
     "end_time": "2022-07-22T12:10:34.371347",
     "exception": false,
     "start_time": "2022-07-22T12:10:34.345452",
     "status": "completed"
    },
    "tags": []
   },
   "outputs": [],
   "source": [
    "x=df.iloc[:,[2,3,4,5,6,7,8,9,10,11,12,13,14,15]]"
   ]
  },
  {
   "cell_type": "code",
   "execution_count": 7,
   "id": "4aa0bc43",
   "metadata": {
    "execution": {
     "iopub.execute_input": "2022-07-22T12:10:34.396457Z",
     "iopub.status.busy": "2022-07-22T12:10:34.395474Z",
     "iopub.status.idle": "2022-07-22T12:10:34.415213Z",
     "shell.execute_reply": "2022-07-22T12:10:34.414086Z"
    },
    "papermill": {
     "duration": 0.035128,
     "end_time": "2022-07-22T12:10:34.417860",
     "exception": false,
     "start_time": "2022-07-22T12:10:34.382732",
     "status": "completed"
    },
    "tags": []
   },
   "outputs": [
    {
     "data": {
      "text/html": [
       "<div>\n",
       "<style scoped>\n",
       "    .dataframe tbody tr th:only-of-type {\n",
       "        vertical-align: middle;\n",
       "    }\n",
       "\n",
       "    .dataframe tbody tr th {\n",
       "        vertical-align: top;\n",
       "    }\n",
       "\n",
       "    .dataframe thead th {\n",
       "        text-align: right;\n",
       "    }\n",
       "</style>\n",
       "<table border=\"1\" class=\"dataframe\">\n",
       "  <thead>\n",
       "    <tr style=\"text-align: right;\">\n",
       "      <th></th>\n",
       "      <th>Rating</th>\n",
       "      <th>maincateg</th>\n",
       "      <th>platform</th>\n",
       "      <th>price1</th>\n",
       "      <th>actprice1</th>\n",
       "      <th>Offer %</th>\n",
       "      <th>norating1</th>\n",
       "      <th>noreviews1</th>\n",
       "      <th>star_5f</th>\n",
       "      <th>star_4f</th>\n",
       "      <th>star_3f</th>\n",
       "      <th>star_2f</th>\n",
       "      <th>star_1f</th>\n",
       "      <th>fulfilled1</th>\n",
       "    </tr>\n",
       "  </thead>\n",
       "  <tbody>\n",
       "    <tr>\n",
       "      <th>0</th>\n",
       "      <td>3.9</td>\n",
       "      <td>Women</td>\n",
       "      <td>Flipkart</td>\n",
       "      <td>698</td>\n",
       "      <td>999</td>\n",
       "      <td>30.13%</td>\n",
       "      <td>38.0</td>\n",
       "      <td>7.0</td>\n",
       "      <td>17.0</td>\n",
       "      <td>9.0</td>\n",
       "      <td>6.0</td>\n",
       "      <td>3</td>\n",
       "      <td>3</td>\n",
       "      <td>0</td>\n",
       "    </tr>\n",
       "    <tr>\n",
       "      <th>1</th>\n",
       "      <td>3.8</td>\n",
       "      <td>Men</td>\n",
       "      <td>Flipkart</td>\n",
       "      <td>999</td>\n",
       "      <td>1999</td>\n",
       "      <td>50.03%</td>\n",
       "      <td>531.0</td>\n",
       "      <td>69.0</td>\n",
       "      <td>264.0</td>\n",
       "      <td>92.0</td>\n",
       "      <td>73.0</td>\n",
       "      <td>29</td>\n",
       "      <td>73</td>\n",
       "      <td>1</td>\n",
       "    </tr>\n",
       "    <tr>\n",
       "      <th>2</th>\n",
       "      <td>4.4</td>\n",
       "      <td>Women</td>\n",
       "      <td>Flipkart</td>\n",
       "      <td>2749</td>\n",
       "      <td>4999</td>\n",
       "      <td>45.01%</td>\n",
       "      <td>17.0</td>\n",
       "      <td>4.0</td>\n",
       "      <td>11.0</td>\n",
       "      <td>3.0</td>\n",
       "      <td>2.0</td>\n",
       "      <td>1</td>\n",
       "      <td>0</td>\n",
       "      <td>1</td>\n",
       "    </tr>\n",
       "    <tr>\n",
       "      <th>3</th>\n",
       "      <td>4.2</td>\n",
       "      <td>Men</td>\n",
       "      <td>Flipkart</td>\n",
       "      <td>518</td>\n",
       "      <td>724</td>\n",
       "      <td>15.85%</td>\n",
       "      <td>46413.0</td>\n",
       "      <td>6229.0</td>\n",
       "      <td>1045.0</td>\n",
       "      <td>12416.0</td>\n",
       "      <td>5352.0</td>\n",
       "      <td>701</td>\n",
       "      <td>4595</td>\n",
       "      <td>1</td>\n",
       "    </tr>\n",
       "    <tr>\n",
       "      <th>4</th>\n",
       "      <td>3.9</td>\n",
       "      <td>Men</td>\n",
       "      <td>Flipkart</td>\n",
       "      <td>1379</td>\n",
       "      <td>2299</td>\n",
       "      <td>40.02%</td>\n",
       "      <td>77.0</td>\n",
       "      <td>3.0</td>\n",
       "      <td>35.0</td>\n",
       "      <td>21.0</td>\n",
       "      <td>7.0</td>\n",
       "      <td>7</td>\n",
       "      <td>7</td>\n",
       "      <td>1</td>\n",
       "    </tr>\n",
       "  </tbody>\n",
       "</table>\n",
       "</div>"
      ],
      "text/plain": [
       "   Rating maincateg  platform  price1  actprice1 Offer %  norating1  \\\n",
       "0     3.9     Women  Flipkart     698        999  30.13%       38.0   \n",
       "1     3.8       Men  Flipkart     999       1999  50.03%      531.0   \n",
       "2     4.4     Women  Flipkart    2749       4999  45.01%       17.0   \n",
       "3     4.2       Men  Flipkart     518        724  15.85%    46413.0   \n",
       "4     3.9       Men  Flipkart    1379       2299  40.02%       77.0   \n",
       "\n",
       "   noreviews1  star_5f  star_4f  star_3f  star_2f  star_1f  fulfilled1  \n",
       "0         7.0     17.0      9.0      6.0        3        3           0  \n",
       "1        69.0    264.0     92.0     73.0       29       73           1  \n",
       "2         4.0     11.0      3.0      2.0        1        0           1  \n",
       "3      6229.0   1045.0  12416.0   5352.0      701     4595           1  \n",
       "4         3.0     35.0     21.0      7.0        7        7           1  "
      ]
     },
     "execution_count": 7,
     "metadata": {},
     "output_type": "execute_result"
    }
   ],
   "source": [
    "x.head()"
   ]
  },
  {
   "cell_type": "code",
   "execution_count": 8,
   "id": "753abf35",
   "metadata": {
    "execution": {
     "iopub.execute_input": "2022-07-22T12:10:34.444106Z",
     "iopub.status.busy": "2022-07-22T12:10:34.443354Z",
     "iopub.status.idle": "2022-07-22T12:10:34.451661Z",
     "shell.execute_reply": "2022-07-22T12:10:34.450557Z"
    },
    "papermill": {
     "duration": 0.024483,
     "end_time": "2022-07-22T12:10:34.454263",
     "exception": false,
     "start_time": "2022-07-22T12:10:34.429780",
     "status": "completed"
    },
    "tags": []
   },
   "outputs": [],
   "source": [
    "y=df.price1"
   ]
  },
  {
   "cell_type": "code",
   "execution_count": 9,
   "id": "1a2fdf29",
   "metadata": {
    "execution": {
     "iopub.execute_input": "2022-07-22T12:10:34.479193Z",
     "iopub.status.busy": "2022-07-22T12:10:34.478801Z",
     "iopub.status.idle": "2022-07-22T12:10:34.534762Z",
     "shell.execute_reply": "2022-07-22T12:10:34.533604Z"
    },
    "papermill": {
     "duration": 0.071653,
     "end_time": "2022-07-22T12:10:34.537515",
     "exception": false,
     "start_time": "2022-07-22T12:10:34.465862",
     "status": "completed"
    },
    "tags": []
   },
   "outputs": [
    {
     "data": {
      "text/html": [
       "<div>\n",
       "<style scoped>\n",
       "    .dataframe tbody tr th:only-of-type {\n",
       "        vertical-align: middle;\n",
       "    }\n",
       "\n",
       "    .dataframe tbody tr th {\n",
       "        vertical-align: top;\n",
       "    }\n",
       "\n",
       "    .dataframe thead th {\n",
       "        text-align: right;\n",
       "    }\n",
       "</style>\n",
       "<table border=\"1\" class=\"dataframe\">\n",
       "  <thead>\n",
       "    <tr style=\"text-align: right;\">\n",
       "      <th></th>\n",
       "      <th>Rating</th>\n",
       "      <th>price1</th>\n",
       "      <th>actprice1</th>\n",
       "      <th>norating1</th>\n",
       "      <th>noreviews1</th>\n",
       "      <th>star_5f</th>\n",
       "      <th>star_4f</th>\n",
       "      <th>star_3f</th>\n",
       "      <th>star_2f</th>\n",
       "      <th>star_1f</th>\n",
       "      <th>fulfilled1</th>\n",
       "    </tr>\n",
       "  </thead>\n",
       "  <tbody>\n",
       "    <tr>\n",
       "      <th>count</th>\n",
       "      <td>15730.000000</td>\n",
       "      <td>15730.000000</td>\n",
       "      <td>15730.000000</td>\n",
       "      <td>15052.000000</td>\n",
       "      <td>15152.000000</td>\n",
       "      <td>15142.000000</td>\n",
       "      <td>15191.000000</td>\n",
       "      <td>15499.000000</td>\n",
       "      <td>15730.000000</td>\n",
       "      <td>15730.000000</td>\n",
       "      <td>15730.000000</td>\n",
       "    </tr>\n",
       "    <tr>\n",
       "      <th>mean</th>\n",
       "      <td>4.012873</td>\n",
       "      <td>688.070693</td>\n",
       "      <td>1369.286777</td>\n",
       "      <td>3057.660776</td>\n",
       "      <td>423.976307</td>\n",
       "      <td>1585.239466</td>\n",
       "      <td>655.923310</td>\n",
       "      <td>357.260662</td>\n",
       "      <td>155.085188</td>\n",
       "      <td>275.500572</td>\n",
       "      <td>0.601526</td>\n",
       "    </tr>\n",
       "    <tr>\n",
       "      <th>std</th>\n",
       "      <td>0.298440</td>\n",
       "      <td>649.409586</td>\n",
       "      <td>1240.900227</td>\n",
       "      <td>11846.965689</td>\n",
       "      <td>1768.230384</td>\n",
       "      <td>6177.476241</td>\n",
       "      <td>2855.735531</td>\n",
       "      <td>1402.246610</td>\n",
       "      <td>558.650254</td>\n",
       "      <td>958.589075</td>\n",
       "      <td>0.489600</td>\n",
       "    </tr>\n",
       "    <tr>\n",
       "      <th>min</th>\n",
       "      <td>0.000000</td>\n",
       "      <td>69.000000</td>\n",
       "      <td>42.000000</td>\n",
       "      <td>1.000000</td>\n",
       "      <td>0.000000</td>\n",
       "      <td>0.000000</td>\n",
       "      <td>0.000000</td>\n",
       "      <td>0.000000</td>\n",
       "      <td>0.000000</td>\n",
       "      <td>0.000000</td>\n",
       "      <td>0.000000</td>\n",
       "    </tr>\n",
       "    <tr>\n",
       "      <th>25%</th>\n",
       "      <td>3.900000</td>\n",
       "      <td>349.000000</td>\n",
       "      <td>699.000000</td>\n",
       "      <td>63.000000</td>\n",
       "      <td>9.000000</td>\n",
       "      <td>30.000000</td>\n",
       "      <td>12.000000</td>\n",
       "      <td>7.000000</td>\n",
       "      <td>3.000000</td>\n",
       "      <td>6.000000</td>\n",
       "      <td>0.000000</td>\n",
       "    </tr>\n",
       "    <tr>\n",
       "      <th>50%</th>\n",
       "      <td>4.000000</td>\n",
       "      <td>474.000000</td>\n",
       "      <td>999.000000</td>\n",
       "      <td>308.000000</td>\n",
       "      <td>44.000000</td>\n",
       "      <td>150.000000</td>\n",
       "      <td>60.000000</td>\n",
       "      <td>34.000000</td>\n",
       "      <td>17.000000</td>\n",
       "      <td>30.000000</td>\n",
       "      <td>1.000000</td>\n",
       "    </tr>\n",
       "    <tr>\n",
       "      <th>75%</th>\n",
       "      <td>4.200000</td>\n",
       "      <td>699.000000</td>\n",
       "      <td>1299.000000</td>\n",
       "      <td>1526.000000</td>\n",
       "      <td>215.000000</td>\n",
       "      <td>788.000000</td>\n",
       "      <td>300.000000</td>\n",
       "      <td>172.000000</td>\n",
       "      <td>77.000000</td>\n",
       "      <td>140.000000</td>\n",
       "      <td>1.000000</td>\n",
       "    </tr>\n",
       "    <tr>\n",
       "      <th>max</th>\n",
       "      <td>5.000000</td>\n",
       "      <td>5998.000000</td>\n",
       "      <td>13499.000000</td>\n",
       "      <td>289973.000000</td>\n",
       "      <td>45448.000000</td>\n",
       "      <td>151193.000000</td>\n",
       "      <td>74037.000000</td>\n",
       "      <td>34978.000000</td>\n",
       "      <td>11705.000000</td>\n",
       "      <td>18060.000000</td>\n",
       "      <td>1.000000</td>\n",
       "    </tr>\n",
       "  </tbody>\n",
       "</table>\n",
       "</div>"
      ],
      "text/plain": [
       "             Rating        price1     actprice1      norating1    noreviews1  \\\n",
       "count  15730.000000  15730.000000  15730.000000   15052.000000  15152.000000   \n",
       "mean       4.012873    688.070693   1369.286777    3057.660776    423.976307   \n",
       "std        0.298440    649.409586   1240.900227   11846.965689   1768.230384   \n",
       "min        0.000000     69.000000     42.000000       1.000000      0.000000   \n",
       "25%        3.900000    349.000000    699.000000      63.000000      9.000000   \n",
       "50%        4.000000    474.000000    999.000000     308.000000     44.000000   \n",
       "75%        4.200000    699.000000   1299.000000    1526.000000    215.000000   \n",
       "max        5.000000   5998.000000  13499.000000  289973.000000  45448.000000   \n",
       "\n",
       "             star_5f       star_4f       star_3f       star_2f       star_1f  \\\n",
       "count   15142.000000  15191.000000  15499.000000  15730.000000  15730.000000   \n",
       "mean     1585.239466    655.923310    357.260662    155.085188    275.500572   \n",
       "std      6177.476241   2855.735531   1402.246610    558.650254    958.589075   \n",
       "min         0.000000      0.000000      0.000000      0.000000      0.000000   \n",
       "25%        30.000000     12.000000      7.000000      3.000000      6.000000   \n",
       "50%       150.000000     60.000000     34.000000     17.000000     30.000000   \n",
       "75%       788.000000    300.000000    172.000000     77.000000    140.000000   \n",
       "max    151193.000000  74037.000000  34978.000000  11705.000000  18060.000000   \n",
       "\n",
       "         fulfilled1  \n",
       "count  15730.000000  \n",
       "mean       0.601526  \n",
       "std        0.489600  \n",
       "min        0.000000  \n",
       "25%        0.000000  \n",
       "50%        1.000000  \n",
       "75%        1.000000  \n",
       "max        1.000000  "
      ]
     },
     "execution_count": 9,
     "metadata": {},
     "output_type": "execute_result"
    }
   ],
   "source": [
    "x.describe()"
   ]
  },
  {
   "cell_type": "code",
   "execution_count": 10,
   "id": "aad33320",
   "metadata": {
    "execution": {
     "iopub.execute_input": "2022-07-22T12:10:34.563748Z",
     "iopub.status.busy": "2022-07-22T12:10:34.563361Z",
     "iopub.status.idle": "2022-07-22T12:10:34.568032Z",
     "shell.execute_reply": "2022-07-22T12:10:34.566948Z"
    },
    "papermill": {
     "duration": 0.020538,
     "end_time": "2022-07-22T12:10:34.570185",
     "exception": false,
     "start_time": "2022-07-22T12:10:34.549647",
     "status": "completed"
    },
    "tags": []
   },
   "outputs": [],
   "source": [
    "#outlier analysis"
   ]
  },
  {
   "cell_type": "code",
   "execution_count": 11,
   "id": "7a681d7b",
   "metadata": {
    "execution": {
     "iopub.execute_input": "2022-07-22T12:10:34.596029Z",
     "iopub.status.busy": "2022-07-22T12:10:34.595303Z",
     "iopub.status.idle": "2022-07-22T12:10:35.743822Z",
     "shell.execute_reply": "2022-07-22T12:10:35.742842Z"
    },
    "papermill": {
     "duration": 1.164628,
     "end_time": "2022-07-22T12:10:35.746703",
     "exception": false,
     "start_time": "2022-07-22T12:10:34.582075",
     "status": "completed"
    },
    "tags": []
   },
   "outputs": [],
   "source": [
    "import seaborn as sns"
   ]
  },
  {
   "cell_type": "code",
   "execution_count": 12,
   "id": "a088d6a7",
   "metadata": {
    "execution": {
     "iopub.execute_input": "2022-07-22T12:10:35.773067Z",
     "iopub.status.busy": "2022-07-22T12:10:35.772325Z",
     "iopub.status.idle": "2022-07-22T12:10:35.965386Z",
     "shell.execute_reply": "2022-07-22T12:10:35.964237Z"
    },
    "papermill": {
     "duration": 0.209484,
     "end_time": "2022-07-22T12:10:35.968147",
     "exception": false,
     "start_time": "2022-07-22T12:10:35.758663",
     "status": "completed"
    },
    "tags": []
   },
   "outputs": [
    {
     "name": "stderr",
     "output_type": "stream",
     "text": [
      "/opt/conda/lib/python3.7/site-packages/seaborn/_decorators.py:43: FutureWarning: Pass the following variable as a keyword arg: x. From version 0.12, the only valid positional argument will be `data`, and passing other arguments without an explicit keyword will result in an error or misinterpretation.\n",
      "  FutureWarning\n"
     ]
    },
    {
     "data": {
      "text/plain": [
       "<AxesSubplot:xlabel='noreviews1'>"
      ]
     },
     "execution_count": 12,
     "metadata": {},
     "output_type": "execute_result"
    },
    {
     "data": {
      "image/png": "[encoded data removed]",
      "text/plain": [
       "<Figure size 432x288 with 1 Axes>"
      ]
     },
     "metadata": {
      "needs_background": "light"
     },
     "output_type": "display_data"
    }
   ],
   "source": [
    "sns.boxplot(df['noreviews1'])"
   ]
  },
  {
   "cell_type": "code",
   "execution_count": 13,
   "id": "8a483062",
   "metadata": {
    "execution": {
     "iopub.execute_input": "2022-07-22T12:10:35.994870Z",
     "iopub.status.busy": "2022-07-22T12:10:35.994505Z",
     "iopub.status.idle": "2022-07-22T12:10:36.159562Z",
     "shell.execute_reply": "2022-07-22T12:10:36.158335Z"
    },
    "papermill": {
     "duration": 0.181323,
     "end_time": "2022-07-22T12:10:36.162019",
     "exception": false,
     "start_time": "2022-07-22T12:10:35.980696",
     "status": "completed"
    },
    "tags": []
   },
   "outputs": [
    {
     "name": "stderr",
     "output_type": "stream",
     "text": [
      "/opt/conda/lib/python3.7/site-packages/seaborn/_decorators.py:43: FutureWarning: Pass the following variable as a keyword arg: x. From version 0.12, the only valid positional argument will be `data`, and passing other arguments without an explicit keyword will result in an error or misinterpretation.\n",
      "  FutureWarning\n"
     ]
    },
    {
     "data": {
      "text/plain": [
       "<AxesSubplot:xlabel='actprice1'>"
      ]
     },
     "execution_count": 13,
     "metadata": {},
     "output_type": "execute_result"
    },
    {
     "data": {
      "image/png": "[encoded data removed]",
      "text/plain": [
       "<Figure size 432x288 with 1 Axes>"
      ]
     },
     "metadata": {
      "needs_background": "light"
     },
     "output_type": "display_data"
    }
   ],
   "source": [
    "sns.boxplot(df['actprice1'])"
   ]
  },
  {
   "cell_type": "code",
   "execution_count": 14,
   "id": "b535fa8c",
   "metadata": {
    "execution": {
     "iopub.execute_input": "2022-07-22T12:10:36.189862Z",
     "iopub.status.busy": "2022-07-22T12:10:36.189142Z",
     "iopub.status.idle": "2022-07-22T12:10:36.348166Z",
     "shell.execute_reply": "2022-07-22T12:10:36.347033Z"
    },
    "papermill": {
     "duration": 0.175429,
     "end_time": "2022-07-22T12:10:36.350426",
     "exception": false,
     "start_time": "2022-07-22T12:10:36.174997",
     "status": "completed"
    },
    "tags": []
   },
   "outputs": [
    {
     "name": "stderr",
     "output_type": "stream",
     "text": [
      "/opt/conda/lib/python3.7/site-packages/seaborn/_decorators.py:43: FutureWarning: Pass the following variable as a keyword arg: x. From version 0.12, the only valid positional argument will be `data`, and passing other arguments without an explicit keyword will result in an error or misinterpretation.\n",
      "  FutureWarning\n"
     ]
    },
    {
     "data": {
      "text/plain": [
       "<AxesSubplot:xlabel='norating1'>"
      ]
     },
     "execution_count": 14,
     "metadata": {},
     "output_type": "execute_result"
    },
    {
     "data": {
      "image/png": "[encoded data removed]",
      "text/plain": [
       "<Figure size 432x288 with 1 Axes>"
      ]
     },
     "metadata": {
      "needs_background": "light"
     },
     "output_type": "display_data"
    }
   ],
   "source": [
    "sns.boxplot(df['norating1'])"
   ]
  },
  {
   "cell_type": "code",
   "execution_count": 15,
   "id": "9d212cdf",
   "metadata": {
    "execution": {
     "iopub.execute_input": "2022-07-22T12:10:36.378866Z",
     "iopub.status.busy": "2022-07-22T12:10:36.378494Z",
     "iopub.status.idle": "2022-07-22T12:10:36.547913Z",
     "shell.execute_reply": "2022-07-22T12:10:36.546928Z"
    },
    "papermill": {
     "duration": 0.186457,
     "end_time": "2022-07-22T12:10:36.550117",
     "exception": false,
     "start_time": "2022-07-22T12:10:36.363660",
     "status": "completed"
    },
    "tags": []
   },
   "outputs": [
    {
     "name": "stderr",
     "output_type": "stream",
     "text": [
      "/opt/conda/lib/python3.7/site-packages/seaborn/_decorators.py:43: FutureWarning: Pass the following variable as a keyword arg: x. From version 0.12, the only valid positional argument will be `data`, and passing other arguments without an explicit keyword will result in an error or misinterpretation.\n",
      "  FutureWarning\n"
     ]
    },
    {
     "data": {
      "text/plain": [
       "<AxesSubplot:xlabel='star_5f'>"
      ]
     },
     "execution_count": 15,
     "metadata": {},
     "output_type": "execute_result"
    },
    {
     "data": {
      "image/png": "[encoded data removed]",
      "text/plain": [
       "<Figure size 432x288 with 1 Axes>"
      ]
     },
     "metadata": {
      "needs_background": "light"
     },
     "output_type": "display_data"
    }
   ],
   "source": [
    "sns.boxplot(df['star_5f'])"
   ]
  },
  {
   "cell_type": "code",
   "execution_count": 16,
   "id": "58f8edee",
   "metadata": {
    "execution": {
     "iopub.execute_input": "2022-07-22T12:10:36.580116Z",
     "iopub.status.busy": "2022-07-22T12:10:36.579301Z",
     "iopub.status.idle": "2022-07-22T12:10:36.741034Z",
     "shell.execute_reply": "2022-07-22T12:10:36.740006Z"
    },
    "papermill": {
     "duration": 0.179064,
     "end_time": "2022-07-22T12:10:36.743317",
     "exception": false,
     "start_time": "2022-07-22T12:10:36.564253",
     "status": "completed"
    },
    "tags": []
   },
   "outputs": [
    {
     "name": "stderr",
     "output_type": "stream",
     "text": [
      "/opt/conda/lib/python3.7/site-packages/seaborn/_decorators.py:43: FutureWarning: Pass the following variable as a keyword arg: x. From version 0.12, the only valid positional argument will be `data`, and passing other arguments without an explicit keyword will result in an error or misinterpretation.\n",
      "  FutureWarning\n"
     ]
    },
    {
     "data": {
      "text/plain": [
       "<AxesSubplot:xlabel='star_4f'>"
      ]
     },
     "execution_count": 16,
     "metadata": {},
     "output_type": "execute_result"
    },
    {
     "data": {
      "image/png": "[encoded data removed]",
      "text/plain": [
       "<Figure size 432x288 with 1 Axes>"
      ]
     },
     "metadata": {
      "needs_background": "light"
     },
     "output_type": "display_data"
    }
   ],
   "source": [
    "sns.boxplot(df['star_4f'])"
   ]
  },
  {
   "cell_type": "code",
   "execution_count": 17,
   "id": "a4f837c2",
   "metadata": {
    "execution": {
     "iopub.execute_input": "2022-07-22T12:10:36.773481Z",
     "iopub.status.busy": "2022-07-22T12:10:36.773065Z",
     "iopub.status.idle": "2022-07-22T12:10:36.936376Z",
     "shell.execute_reply": "2022-07-22T12:10:36.935185Z"
    },
    "papermill": {
     "duration": 0.181405,
     "end_time": "2022-07-22T12:10:36.938755",
     "exception": false,
     "start_time": "2022-07-22T12:10:36.757350",
     "status": "completed"
    },
    "tags": []
   },
   "outputs": [
    {
     "name": "stderr",
     "output_type": "stream",
     "text": [
      "/opt/conda/lib/python3.7/site-packages/seaborn/_decorators.py:43: FutureWarning: Pass the following variable as a keyword arg: x. From version 0.12, the only valid positional argument will be `data`, and passing other arguments without an explicit keyword will result in an error or misinterpretation.\n",
      "  FutureWarning\n"
     ]
    },
    {
     "data": {
      "text/plain": [
       "<AxesSubplot:xlabel='star_3f'>"
      ]
     },
     "execution_count": 17,
     "metadata": {},
     "output_type": "execute_result"
    },
    {
     "data": {
      "image/png": "[encoded data removed]",
      "text/plain": [
       "<Figure size 432x288 with 1 Axes>"
      ]
     },
     "metadata": {
      "needs_background": "light"
     },
     "output_type": "display_data"
    }
   ],
   "source": [
    "sns.boxplot(df['star_3f'])"
   ]
  },
  {
   "cell_type": "code",
   "execution_count": 18,
   "id": "abd5797f",
   "metadata": {
    "execution": {
     "iopub.execute_input": "2022-07-22T12:10:36.969762Z",
     "iopub.status.busy": "2022-07-22T12:10:36.969049Z",
     "iopub.status.idle": "2022-07-22T12:10:37.127934Z",
     "shell.execute_reply": "2022-07-22T12:10:37.126816Z"
    },
    "papermill": {
     "duration": 0.176952,
     "end_time": "2022-07-22T12:10:37.130245",
     "exception": false,
     "start_time": "2022-07-22T12:10:36.953293",
     "status": "completed"
    },
    "tags": []
   },
   "outputs": [
    {
     "name": "stderr",
     "output_type": "stream",
     "text": [
      "/opt/conda/lib/python3.7/site-packages/seaborn/_decorators.py:43: FutureWarning: Pass the following variable as a keyword arg: x. From version 0.12, the only valid positional argument will be `data`, and passing other arguments without an explicit keyword will result in an error or misinterpretation.\n",
      "  FutureWarning\n"
     ]
    },
    {
     "data": {
      "text/plain": [
       "<AxesSubplot:xlabel='star_2f'>"
      ]
     },
     "execution_count": 18,
     "metadata": {},
     "output_type": "execute_result"
    },
    {
     "data": {
      "image/png": "[encoded data removed]",
      "text/plain": [
       "<Figure size 432x288 with 1 Axes>"
      ]
     },
     "metadata": {
      "needs_background": "light"
     },
     "output_type": "display_data"
    }
   ],
   "source": [
    "sns.boxplot(df['star_2f'])"
   ]
  },
  {
   "cell_type": "code",
   "execution_count": 19,
   "id": "91bbf724",
   "metadata": {
    "execution": {
     "iopub.execute_input": "2022-07-22T12:10:37.161927Z",
     "iopub.status.busy": "2022-07-22T12:10:37.161494Z",
     "iopub.status.idle": "2022-07-22T12:10:37.325300Z",
     "shell.execute_reply": "2022-07-22T12:10:37.324514Z"
    },
    "papermill": {
     "duration": 0.18206,
     "end_time": "2022-07-22T12:10:37.327344",
     "exception": false,
     "start_time": "2022-07-22T12:10:37.145284",
     "status": "completed"
    },
    "tags": []
   },
   "outputs": [
    {
     "name": "stderr",
     "output_type": "stream",
     "text": [
      "/opt/conda/lib/python3.7/site-packages/seaborn/_decorators.py:43: FutureWarning: Pass the following variable as a keyword arg: x. From version 0.12, the only valid positional argument will be `data`, and passing other arguments without an explicit keyword will result in an error or misinterpretation.\n",
      "  FutureWarning\n"
     ]
    },
    {
     "data": {
      "text/plain": [
       "<AxesSubplot:xlabel='star_1f'>"
      ]
     },
     "execution_count": 19,
     "metadata": {},
     "output_type": "execute_result"
    },
    {
     "data": {
      "image/png": "[encoded data removed]",
      "text/plain": [
       "<Figure size 432x288 with 1 Axes>"
      ]
     },
     "metadata": {
      "needs_background": "light"
     },
     "output_type": "display_data"
    }
   ],
   "source": [
    "sns.boxplot(df['star_1f'])"
   ]
  },
  {
   "cell_type": "code",
   "execution_count": 20,
   "id": "3a0112c5",
   "metadata": {
    "execution": {
     "iopub.execute_input": "2022-07-22T12:10:37.360221Z",
     "iopub.status.busy": "2022-07-22T12:10:37.359600Z",
     "iopub.status.idle": "2022-07-22T12:10:37.369382Z",
     "shell.execute_reply": "2022-07-22T12:10:37.368331Z"
    },
    "papermill": {
     "duration": 0.029198,
     "end_time": "2022-07-22T12:10:37.371872",
     "exception": false,
     "start_time": "2022-07-22T12:10:37.342674",
     "status": "completed"
    },
    "tags": []
   },
   "outputs": [],
   "source": [
    "#we see where the outliers lie and remove them in order to make the data more usable\n",
    "x_new= x[(df.noreviews1<40000) & (df.norating1<250000) & (df.actprice1<12000) & \n",
    "        (df.star_5f<140000) & (df.star_4f<50000) & (df.star_3f<30000) & (df.star_2f<10000) & (df.star_1f<15000)]"
   ]
  },
  {
   "cell_type": "code",
   "execution_count": 21,
   "id": "361d99dd",
   "metadata": {
    "execution": {
     "iopub.execute_input": "2022-07-22T12:10:37.405386Z",
     "iopub.status.busy": "2022-07-22T12:10:37.405008Z",
     "iopub.status.idle": "2022-07-22T12:10:37.409065Z",
     "shell.execute_reply": "2022-07-22T12:10:37.408251Z"
    },
    "papermill": {
     "duration": 0.023256,
     "end_time": "2022-07-22T12:10:37.411082",
     "exception": false,
     "start_time": "2022-07-22T12:10:37.387826",
     "status": "completed"
    },
    "tags": []
   },
   "outputs": [],
   "source": [
    "#Missing Values"
   ]
  },
  {
   "cell_type": "code",
   "execution_count": 22,
   "id": "ae80109c",
   "metadata": {
    "execution": {
     "iopub.execute_input": "2022-07-22T12:10:37.444177Z",
     "iopub.status.busy": "2022-07-22T12:10:37.443611Z",
     "iopub.status.idle": "2022-07-22T12:10:37.459010Z",
     "shell.execute_reply": "2022-07-22T12:10:37.457951Z"
    },
    "papermill": {
     "duration": 0.034901,
     "end_time": "2022-07-22T12:10:37.461383",
     "exception": false,
     "start_time": "2022-07-22T12:10:37.426482",
     "status": "completed"
    },
    "tags": []
   },
   "outputs": [
    {
     "name": "stderr",
     "output_type": "stream",
     "text": [
      "/opt/conda/lib/python3.7/site-packages/ipykernel_launcher.py:1: SettingWithCopyWarning: \n",
      "A value is trying to be set on a copy of a slice from a DataFrame.\n",
      "Try using .loc[row_indexer,col_indexer] = value instead\n",
      "\n",
      "See the caveats in the documentation: https://pandas.pydata.org/pandas-docs/stable/user_guide/indexing.html#returning-a-view-versus-a-copy\n",
      "  \"\"\"Entry point for launching an IPython kernel.\n",
      "/opt/conda/lib/python3.7/site-packages/ipykernel_launcher.py:2: SettingWithCopyWarning: \n",
      "A value is trying to be set on a copy of a slice from a DataFrame.\n",
      "Try using .loc[row_indexer,col_indexer] = value instead\n",
      "\n",
      "See the caveats in the documentation: https://pandas.pydata.org/pandas-docs/stable/user_guide/indexing.html#returning-a-view-versus-a-copy\n",
      "  \n",
      "/opt/conda/lib/python3.7/site-packages/ipykernel_launcher.py:3: SettingWithCopyWarning: \n",
      "A value is trying to be set on a copy of a slice from a DataFrame.\n",
      "Try using .loc[row_indexer,col_indexer] = value instead\n",
      "\n",
      "See the caveats in the documentation: https://pandas.pydata.org/pandas-docs/stable/user_guide/indexing.html#returning-a-view-versus-a-copy\n",
      "  This is separate from the ipykernel package so we can avoid doing imports until\n",
      "/opt/conda/lib/python3.7/site-packages/ipykernel_launcher.py:4: SettingWithCopyWarning: \n",
      "A value is trying to be set on a copy of a slice from a DataFrame.\n",
      "Try using .loc[row_indexer,col_indexer] = value instead\n",
      "\n",
      "See the caveats in the documentation: https://pandas.pydata.org/pandas-docs/stable/user_guide/indexing.html#returning-a-view-versus-a-copy\n",
      "  after removing the cwd from sys.path.\n",
      "/opt/conda/lib/python3.7/site-packages/ipykernel_launcher.py:5: SettingWithCopyWarning: \n",
      "A value is trying to be set on a copy of a slice from a DataFrame.\n",
      "Try using .loc[row_indexer,col_indexer] = value instead\n",
      "\n",
      "See the caveats in the documentation: https://pandas.pydata.org/pandas-docs/stable/user_guide/indexing.html#returning-a-view-versus-a-copy\n",
      "  \"\"\"\n",
      "/opt/conda/lib/python3.7/site-packages/ipykernel_launcher.py:6: SettingWithCopyWarning: \n",
      "A value is trying to be set on a copy of a slice from a DataFrame.\n",
      "Try using .loc[row_indexer,col_indexer] = value instead\n",
      "\n",
      "See the caveats in the documentation: https://pandas.pydata.org/pandas-docs/stable/user_guide/indexing.html#returning-a-view-versus-a-copy\n",
      "  \n"
     ]
    }
   ],
   "source": [
    "x_new['maincateg']=x_new['maincateg'].fillna('Women')\n",
    "x_new['norating1']=x_new['norating1'].fillna(x_new['norating1'].mean())\n",
    "x_new['noreviews1']=x_new['noreviews1'].fillna(x_new['noreviews1'].mean())\n",
    "x_new['star_5f']=x_new['star_5f'].fillna(x_new['star_5f'].mean())\n",
    "x_new['star_4f']=x_new['star_4f'].fillna(x_new['star_4f'].mean())\n",
    "x_new['star_3f']=x_new['star_3f'].fillna(x_new['star_3f'].mean())"
   ]
  },
  {
   "cell_type": "code",
   "execution_count": 23,
   "id": "76d0aade",
   "metadata": {
    "execution": {
     "iopub.execute_input": "2022-07-22T12:10:37.493961Z",
     "iopub.status.busy": "2022-07-22T12:10:37.493525Z",
     "iopub.status.idle": "2022-07-22T12:10:37.508080Z",
     "shell.execute_reply": "2022-07-22T12:10:37.507265Z"
    },
    "papermill": {
     "duration": 0.033196,
     "end_time": "2022-07-22T12:10:37.510048",
     "exception": false,
     "start_time": "2022-07-22T12:10:37.476852",
     "status": "completed"
    },
    "tags": []
   },
   "outputs": [
    {
     "data": {
      "text/plain": [
       "Rating        0\n",
       "maincateg     0\n",
       "platform      0\n",
       "price1        0\n",
       "actprice1     0\n",
       "Offer %       0\n",
       "norating1     0\n",
       "noreviews1    0\n",
       "star_5f       0\n",
       "star_4f       0\n",
       "star_3f       0\n",
       "star_2f       0\n",
       "star_1f       0\n",
       "fulfilled1    0\n",
       "dtype: int64"
      ]
     },
     "execution_count": 23,
     "metadata": {},
     "output_type": "execute_result"
    }
   ],
   "source": [
    "x_new.isna().sum()"
   ]
  },
  {
   "cell_type": "code",
   "execution_count": 24,
   "id": "7de1c43e",
   "metadata": {
    "execution": {
     "iopub.execute_input": "2022-07-22T12:10:37.543402Z",
     "iopub.status.busy": "2022-07-22T12:10:37.543016Z",
     "iopub.status.idle": "2022-07-22T12:10:37.548958Z",
     "shell.execute_reply": "2022-07-22T12:10:37.548142Z"
    },
    "papermill": {
     "duration": 0.025314,
     "end_time": "2022-07-22T12:10:37.550867",
     "exception": false,
     "start_time": "2022-07-22T12:10:37.525553",
     "status": "completed"
    },
    "tags": []
   },
   "outputs": [
    {
     "data": {
      "text/plain": [
       "(14932, 14)"
      ]
     },
     "execution_count": 24,
     "metadata": {},
     "output_type": "execute_result"
    }
   ],
   "source": [
    "x_new.shape"
   ]
  },
  {
   "cell_type": "code",
   "execution_count": 25,
   "id": "3f4b3b74",
   "metadata": {
    "execution": {
     "iopub.execute_input": "2022-07-22T12:10:37.584381Z",
     "iopub.status.busy": "2022-07-22T12:10:37.584016Z",
     "iopub.status.idle": "2022-07-22T12:10:37.742568Z",
     "shell.execute_reply": "2022-07-22T12:10:37.741448Z"
    },
    "papermill": {
     "duration": 0.178281,
     "end_time": "2022-07-22T12:10:37.745161",
     "exception": false,
     "start_time": "2022-07-22T12:10:37.566880",
     "status": "completed"
    },
    "tags": []
   },
   "outputs": [
    {
     "name": "stderr",
     "output_type": "stream",
     "text": [
      "/opt/conda/lib/python3.7/site-packages/ipykernel_launcher.py:3: SettingWithCopyWarning: \n",
      "A value is trying to be set on a copy of a slice from a DataFrame.\n",
      "Try using .loc[row_indexer,col_indexer] = value instead\n",
      "\n",
      "See the caveats in the documentation: https://pandas.pydata.org/pandas-docs/stable/user_guide/indexing.html#returning-a-view-versus-a-copy\n",
      "  This is separate from the ipykernel package so we can avoid doing imports until\n",
      "/opt/conda/lib/python3.7/site-packages/ipykernel_launcher.py:4: SettingWithCopyWarning: \n",
      "A value is trying to be set on a copy of a slice from a DataFrame.\n",
      "Try using .loc[row_indexer,col_indexer] = value instead\n",
      "\n",
      "See the caveats in the documentation: https://pandas.pydata.org/pandas-docs/stable/user_guide/indexing.html#returning-a-view-versus-a-copy\n",
      "  after removing the cwd from sys.path.\n"
     ]
    }
   ],
   "source": [
    "from sklearn.preprocessing import LabelEncoder\n",
    "le=LabelEncoder()\n",
    "x_new['maincateg']=le.fit_transform(x_new['maincateg'])\n",
    "x_new['platform']=le.fit_transform(x_new['platform'])"
   ]
  },
  {
   "cell_type": "code",
   "execution_count": 26,
   "id": "4927560b",
   "metadata": {
    "execution": {
     "iopub.execute_input": "2022-07-22T12:10:37.778247Z",
     "iopub.status.busy": "2022-07-22T12:10:37.777838Z",
     "iopub.status.idle": "2022-07-22T12:10:37.782807Z",
     "shell.execute_reply": "2022-07-22T12:10:37.781729Z"
    },
    "papermill": {
     "duration": 0.024098,
     "end_time": "2022-07-22T12:10:37.785083",
     "exception": false,
     "start_time": "2022-07-22T12:10:37.760985",
     "status": "completed"
    },
    "tags": []
   },
   "outputs": [],
   "source": [
    "#scaling & normalization"
   ]
  },
  {
   "cell_type": "code",
   "execution_count": 27,
   "id": "dfe90a79",
   "metadata": {
    "execution": {
     "iopub.execute_input": "2022-07-22T12:10:37.818031Z",
     "iopub.status.busy": "2022-07-22T12:10:37.817604Z",
     "iopub.status.idle": "2022-07-22T12:10:37.822630Z",
     "shell.execute_reply": "2022-07-22T12:10:37.821537Z"
    },
    "papermill": {
     "duration": 0.024049,
     "end_time": "2022-07-22T12:10:37.824891",
     "exception": false,
     "start_time": "2022-07-22T12:10:37.800842",
     "status": "completed"
    },
    "tags": []
   },
   "outputs": [],
   "source": [
    "from sklearn.preprocessing import StandardScaler"
   ]
  },
  {
   "cell_type": "code",
   "execution_count": 28,
   "id": "9d5fb9fe",
   "metadata": {
    "execution": {
     "iopub.execute_input": "2022-07-22T12:10:37.858229Z",
     "iopub.status.busy": "2022-07-22T12:10:37.857555Z",
     "iopub.status.idle": "2022-07-22T12:10:37.877740Z",
     "shell.execute_reply": "2022-07-22T12:10:37.876682Z"
    },
    "papermill": {
     "duration": 0.039207,
     "end_time": "2022-07-22T12:10:37.879865",
     "exception": false,
     "start_time": "2022-07-22T12:10:37.840658",
     "status": "completed"
    },
    "tags": []
   },
   "outputs": [
    {
     "data": {
      "text/html": [
       "<div>\n",
       "<style scoped>\n",
       "    .dataframe tbody tr th:only-of-type {\n",
       "        vertical-align: middle;\n",
       "    }\n",
       "\n",
       "    .dataframe tbody tr th {\n",
       "        vertical-align: top;\n",
       "    }\n",
       "\n",
       "    .dataframe thead th {\n",
       "        text-align: right;\n",
       "    }\n",
       "</style>\n",
       "<table border=\"1\" class=\"dataframe\">\n",
       "  <thead>\n",
       "    <tr style=\"text-align: right;\">\n",
       "      <th></th>\n",
       "      <th>Rating</th>\n",
       "      <th>maincateg</th>\n",
       "      <th>platform</th>\n",
       "      <th>price1</th>\n",
       "      <th>actprice1</th>\n",
       "      <th>Offer %</th>\n",
       "      <th>norating1</th>\n",
       "      <th>noreviews1</th>\n",
       "      <th>star_5f</th>\n",
       "      <th>star_4f</th>\n",
       "      <th>star_3f</th>\n",
       "      <th>star_2f</th>\n",
       "      <th>star_1f</th>\n",
       "      <th>fulfilled1</th>\n",
       "    </tr>\n",
       "  </thead>\n",
       "  <tbody>\n",
       "    <tr>\n",
       "      <th>0</th>\n",
       "      <td>3.9</td>\n",
       "      <td>1</td>\n",
       "      <td>1</td>\n",
       "      <td>698</td>\n",
       "      <td>999</td>\n",
       "      <td>30.13%</td>\n",
       "      <td>38.0</td>\n",
       "      <td>7.0</td>\n",
       "      <td>17.0</td>\n",
       "      <td>9.0</td>\n",
       "      <td>6.0</td>\n",
       "      <td>3</td>\n",
       "      <td>3</td>\n",
       "      <td>0</td>\n",
       "    </tr>\n",
       "    <tr>\n",
       "      <th>1</th>\n",
       "      <td>3.8</td>\n",
       "      <td>0</td>\n",
       "      <td>1</td>\n",
       "      <td>999</td>\n",
       "      <td>1999</td>\n",
       "      <td>50.03%</td>\n",
       "      <td>531.0</td>\n",
       "      <td>69.0</td>\n",
       "      <td>264.0</td>\n",
       "      <td>92.0</td>\n",
       "      <td>73.0</td>\n",
       "      <td>29</td>\n",
       "      <td>73</td>\n",
       "      <td>1</td>\n",
       "    </tr>\n",
       "    <tr>\n",
       "      <th>2</th>\n",
       "      <td>4.4</td>\n",
       "      <td>1</td>\n",
       "      <td>1</td>\n",
       "      <td>2749</td>\n",
       "      <td>4999</td>\n",
       "      <td>45.01%</td>\n",
       "      <td>17.0</td>\n",
       "      <td>4.0</td>\n",
       "      <td>11.0</td>\n",
       "      <td>3.0</td>\n",
       "      <td>2.0</td>\n",
       "      <td>1</td>\n",
       "      <td>0</td>\n",
       "      <td>1</td>\n",
       "    </tr>\n",
       "    <tr>\n",
       "      <th>3</th>\n",
       "      <td>4.2</td>\n",
       "      <td>0</td>\n",
       "      <td>1</td>\n",
       "      <td>518</td>\n",
       "      <td>724</td>\n",
       "      <td>15.85%</td>\n",
       "      <td>46413.0</td>\n",
       "      <td>6229.0</td>\n",
       "      <td>1045.0</td>\n",
       "      <td>12416.0</td>\n",
       "      <td>5352.0</td>\n",
       "      <td>701</td>\n",
       "      <td>4595</td>\n",
       "      <td>1</td>\n",
       "    </tr>\n",
       "    <tr>\n",
       "      <th>4</th>\n",
       "      <td>3.9</td>\n",
       "      <td>0</td>\n",
       "      <td>1</td>\n",
       "      <td>1379</td>\n",
       "      <td>2299</td>\n",
       "      <td>40.02%</td>\n",
       "      <td>77.0</td>\n",
       "      <td>3.0</td>\n",
       "      <td>35.0</td>\n",
       "      <td>21.0</td>\n",
       "      <td>7.0</td>\n",
       "      <td>7</td>\n",
       "      <td>7</td>\n",
       "      <td>1</td>\n",
       "    </tr>\n",
       "  </tbody>\n",
       "</table>\n",
       "</div>"
      ],
      "text/plain": [
       "   Rating  maincateg  platform  price1  actprice1 Offer %  norating1  \\\n",
       "0     3.9          1         1     698        999  30.13%       38.0   \n",
       "1     3.8          0         1     999       1999  50.03%      531.0   \n",
       "2     4.4          1         1    2749       4999  45.01%       17.0   \n",
       "3     4.2          0         1     518        724  15.85%    46413.0   \n",
       "4     3.9          0         1    1379       2299  40.02%       77.0   \n",
       "\n",
       "   noreviews1  star_5f  star_4f  star_3f  star_2f  star_1f  fulfilled1  \n",
       "0         7.0     17.0      9.0      6.0        3        3           0  \n",
       "1        69.0    264.0     92.0     73.0       29       73           1  \n",
       "2         4.0     11.0      3.0      2.0        1        0           1  \n",
       "3      6229.0   1045.0  12416.0   5352.0      701     4595           1  \n",
       "4         3.0     35.0     21.0      7.0        7        7           1  "
      ]
     },
     "execution_count": 28,
     "metadata": {},
     "output_type": "execute_result"
    }
   ],
   "source": [
    "x_new.head()"
   ]
  },
  {
   "cell_type": "code",
   "execution_count": 29,
   "id": "210f47b5",
   "metadata": {
    "execution": {
     "iopub.execute_input": "2022-07-22T12:10:37.913767Z",
     "iopub.status.busy": "2022-07-22T12:10:37.913365Z",
     "iopub.status.idle": "2022-07-22T12:10:37.926747Z",
     "shell.execute_reply": "2022-07-22T12:10:37.925904Z"
    },
    "papermill": {
     "duration": 0.032847,
     "end_time": "2022-07-22T12:10:37.928964",
     "exception": false,
     "start_time": "2022-07-22T12:10:37.896117",
     "status": "completed"
    },
    "tags": []
   },
   "outputs": [
    {
     "name": "stderr",
     "output_type": "stream",
     "text": [
      "/opt/conda/lib/python3.7/site-packages/pandas/core/frame.py:4913: SettingWithCopyWarning: \n",
      "A value is trying to be set on a copy of a slice from a DataFrame\n",
      "\n",
      "See the caveats in the documentation: https://pandas.pydata.org/pandas-docs/stable/user_guide/indexing.html#returning-a-view-versus-a-copy\n",
      "  errors=errors,\n"
     ]
    }
   ],
   "source": [
    "x_new.drop(['Offer %','price1'], axis=1, inplace=True)"
   ]
  },
  {
   "cell_type": "code",
   "execution_count": 30,
   "id": "3f880436",
   "metadata": {
    "execution": {
     "iopub.execute_input": "2022-07-22T12:10:37.962597Z",
     "iopub.status.busy": "2022-07-22T12:10:37.962193Z",
     "iopub.status.idle": "2022-07-22T12:10:37.969062Z",
     "shell.execute_reply": "2022-07-22T12:10:37.968014Z"
    },
    "papermill": {
     "duration": 0.026256,
     "end_time": "2022-07-22T12:10:37.971273",
     "exception": false,
     "start_time": "2022-07-22T12:10:37.945017",
     "status": "completed"
    },
    "tags": []
   },
   "outputs": [
    {
     "data": {
      "text/plain": [
       "(14932, 12)"
      ]
     },
     "execution_count": 30,
     "metadata": {},
     "output_type": "execute_result"
    }
   ],
   "source": [
    "x_new.shape"
   ]
  },
  {
   "cell_type": "code",
   "execution_count": 31,
   "id": "5266c238",
   "metadata": {
    "execution": {
     "iopub.execute_input": "2022-07-22T12:10:38.006148Z",
     "iopub.status.busy": "2022-07-22T12:10:38.005733Z",
     "iopub.status.idle": "2022-07-22T12:10:38.021004Z",
     "shell.execute_reply": "2022-07-22T12:10:38.019943Z"
    },
    "papermill": {
     "duration": 0.035908,
     "end_time": "2022-07-22T12:10:38.023500",
     "exception": false,
     "start_time": "2022-07-22T12:10:37.987592",
     "status": "completed"
    },
    "tags": []
   },
   "outputs": [
    {
     "data": {
      "text/plain": [
       "array([[-0.3798614 ,  0.85337022,  0.14916302, ..., -0.31404139,\n",
       "        -0.31561971, -1.22385676],\n",
       "       [-0.71445853, -1.17182434,  0.14916302, ..., -0.25617777,\n",
       "        -0.22918567,  0.81708909],\n",
       "       [ 1.29312423,  0.85337022,  0.14916302, ..., -0.31849244,\n",
       "        -0.31932403,  0.81708909],\n",
       "       ...,\n",
       "       [-0.3798614 ,  0.85337022,  0.14916302, ..., -0.28510958,\n",
       "        -0.28475041,  0.81708909],\n",
       "       [-0.3798614 , -1.17182434, -6.70407454, ..., -0.26507986,\n",
       "        -0.26128974,  0.81708909],\n",
       "       [ 3.30070698, -1.17182434,  0.14916302, ..., -0.32071797,\n",
       "        -0.31932403,  0.81708909]])"
      ]
     },
     "execution_count": 31,
     "metadata": {},
     "output_type": "execute_result"
    }
   ],
   "source": [
    "ss= StandardScaler()\n",
    "ss.fit_transform(x_new)"
   ]
  },
  {
   "cell_type": "code",
   "execution_count": 32,
   "id": "f2e443de",
   "metadata": {
    "execution": {
     "iopub.execute_input": "2022-07-22T12:10:38.058857Z",
     "iopub.status.busy": "2022-07-22T12:10:38.058475Z",
     "iopub.status.idle": "2022-07-22T12:10:38.063196Z",
     "shell.execute_reply": "2022-07-22T12:10:38.062150Z"
    },
    "papermill": {
     "duration": 0.024647,
     "end_time": "2022-07-22T12:10:38.065437",
     "exception": false,
     "start_time": "2022-07-22T12:10:38.040790",
     "status": "completed"
    },
    "tags": []
   },
   "outputs": [],
   "source": [
    "#feature importance"
   ]
  },
  {
   "cell_type": "code",
   "execution_count": 33,
   "id": "20b1e864",
   "metadata": {
    "execution": {
     "iopub.execute_input": "2022-07-22T12:10:38.100557Z",
     "iopub.status.busy": "2022-07-22T12:10:38.099830Z",
     "iopub.status.idle": "2022-07-22T12:10:38.109850Z",
     "shell.execute_reply": "2022-07-22T12:10:38.108752Z"
    },
    "papermill": {
     "duration": 0.030003,
     "end_time": "2022-07-22T12:10:38.112083",
     "exception": false,
     "start_time": "2022-07-22T12:10:38.082080",
     "status": "completed"
    },
    "tags": []
   },
   "outputs": [],
   "source": [
    "y_new= y[(df.noreviews1<40000) & (df.norating1<250000) & (df.actprice1<12000) & \n",
    "        (df.star_5f<140000) & (df.star_4f<50000) & (df.star_3f<30000) & (df.star_2f<10000) & (df.star_1f<15000)]"
   ]
  },
  {
   "cell_type": "code",
   "execution_count": 34,
   "id": "03528713",
   "metadata": {
    "execution": {
     "iopub.execute_input": "2022-07-22T12:10:38.150653Z",
     "iopub.status.busy": "2022-07-22T12:10:38.150009Z",
     "iopub.status.idle": "2022-07-22T12:10:38.435312Z",
     "shell.execute_reply": "2022-07-22T12:10:38.434402Z"
    },
    "papermill": {
     "duration": 0.308201,
     "end_time": "2022-07-22T12:10:38.437382",
     "exception": false,
     "start_time": "2022-07-22T12:10:38.129181",
     "status": "completed"
    },
    "tags": []
   },
   "outputs": [
    {
     "name": "stdout",
     "output_type": "stream",
     "text": [
      "{'n_estimators': [210, 217, 225, 233, 241, 248, 256, 264, 272, 280], 'max_features': ['auto', 'sqrt'], 'max_depth': [10, 20, 30, 40, 50, 60, 70, 80, 90, 100, 110, None], 'min_samples_split': [2, 5, 10], 'min_samples_leaf': [1, 2, 4], 'bootstrap': [True, False]}\n"
     ]
    }
   ],
   "source": [
    "#Most important step is hypertuning to improve the score\n",
    "from sklearn.ensemble import RandomForestRegressor\n",
    "rf= RandomForestRegressor()\n",
    "from sklearn.tree import DecisionTreeRegressor \n",
    "from sklearn.model_selection import RandomizedSearchCV\n",
    "# Number of trees in random forest, we need to initially take a large range and then close down by shortening the range like merge sort\n",
    "n_estimators = [int(x) for x in np.linspace(start = 210, stop = 280, num = 10)]\n",
    "# Number of features to consider at every split\n",
    "max_features = ['auto', 'sqrt']\n",
    "# Maximum number of levels in tree\n",
    "max_depth = [int(x) for x in np.linspace(10, 110, num = 11)]\n",
    "max_depth.append(None)\n",
    "# Minimum number of samples required to split a node\n",
    "min_samples_split = [2, 5, 10]\n",
    "# Minimum number of samples required at each leaf node\n",
    "min_samples_leaf = [1, 2, 4]\n",
    "# Method of selecting samples for training each tree\n",
    "bootstrap = [True, False]\n",
    "# Create the random grid\n",
    "random_grid = {'n_estimators': n_estimators,\n",
    "               'max_features': max_features,\n",
    "               'max_depth': max_depth,\n",
    "               'min_samples_split': min_samples_split,\n",
    "               'min_samples_leaf': min_samples_leaf,\n",
    "               'bootstrap': bootstrap}\n",
    "print(random_grid)\n",
    "\n",
    "#dt=DecisionTreeRegressor (max_depth=32)\n",
    "#rf.fit(x_new,y_new)\n",
    "#dt.fit(x_new,y_new)"
   ]
  },
  {
   "cell_type": "code",
   "execution_count": 35,
   "id": "eefb4601",
   "metadata": {
    "execution": {
     "iopub.execute_input": "2022-07-22T12:10:38.473766Z",
     "iopub.status.busy": "2022-07-22T12:10:38.473400Z",
     "iopub.status.idle": "2022-07-22T12:27:23.606702Z",
     "shell.execute_reply": "2022-07-22T12:27:23.605201Z"
    },
    "papermill": {
     "duration": 1005.171285,
     "end_time": "2022-07-22T12:27:23.625879",
     "exception": false,
     "start_time": "2022-07-22T12:10:38.454594",
     "status": "completed"
    },
    "tags": []
   },
   "outputs": [
    {
     "name": "stdout",
     "output_type": "stream",
     "text": [
      "Fitting 3 folds for each of 100 candidates, totalling 300 fits\n",
      "[CV] END bootstrap=True, max_depth=10, max_features=sqrt, min_samples_leaf=1, min_samples_split=5, n_estimators=280; total time=   4.7s\n",
      "[CV] END bootstrap=True, max_depth=10, max_features=sqrt, min_samples_leaf=1, min_samples_split=5, n_estimators=280; total time=   4.5s\n",
      "[CV] END bootstrap=False, max_depth=10, max_features=sqrt, min_samples_leaf=2, min_samples_split=5, n_estimators=248; total time=   5.8s\n",
      "[CV] END bootstrap=True, max_depth=10, max_features=sqrt, min_samples_leaf=4, min_samples_split=2, n_estimators=264; total time=   4.2s\n",
      "[CV] END bootstrap=True, max_depth=10, max_features=sqrt, min_samples_leaf=4, min_samples_split=2, n_estimators=264; total time=   4.1s\n",
      "[CV] END bootstrap=True, max_depth=10, max_features=sqrt, min_samples_leaf=4, min_samples_split=2, n_estimators=264; total time=   4.2s\n",
      "[CV] END bootstrap=False, max_depth=30, max_features=sqrt, min_samples_leaf=4, min_samples_split=5, n_estimators=233; total time=   7.1s\n",
      "[CV] END bootstrap=False, max_depth=30, max_features=sqrt, min_samples_leaf=4, min_samples_split=5, n_estimators=233; total time=   7.1s\n",
      "[CV] END bootstrap=False, max_depth=100, max_features=sqrt, min_samples_leaf=2, min_samples_split=5, n_estimators=241; total time=   8.7s\n",
      "[CV] END bootstrap=False, max_depth=50, max_features=auto, min_samples_leaf=1, min_samples_split=2, n_estimators=241; total time=  31.0s\n",
      "[CV] END bootstrap=False, max_depth=10, max_features=auto, min_samples_leaf=4, min_samples_split=5, n_estimators=272; total time=  19.6s\n",
      "[CV] END bootstrap=False, max_depth=90, max_features=sqrt, min_samples_leaf=1, min_samples_split=5, n_estimators=233; total time=   8.4s\n",
      "[CV] END bootstrap=False, max_depth=10, max_features=sqrt, min_samples_leaf=1, min_samples_split=10, n_estimators=280; total time=   6.4s\n",
      "[CV] END bootstrap=False, max_depth=10, max_features=sqrt, min_samples_leaf=2, min_samples_split=5, n_estimators=264; total time=   5.6s\n",
      "[CV] END bootstrap=False, max_depth=50, max_features=auto, min_samples_leaf=4, min_samples_split=2, n_estimators=272; total time=  29.7s\n",
      "[CV] END bootstrap=False, max_depth=70, max_features=auto, min_samples_leaf=2, min_samples_split=5, n_estimators=225; total time=  25.6s\n",
      "[CV] END bootstrap=False, max_depth=110, max_features=auto, min_samples_leaf=2, min_samples_split=10, n_estimators=272; total time=  30.5s\n",
      "[CV] END bootstrap=False, max_depth=30, max_features=sqrt, min_samples_leaf=1, min_samples_split=10, n_estimators=272; total time=   9.1s\n",
      "[CV] END bootstrap=True, max_depth=80, max_features=sqrt, min_samples_leaf=4, min_samples_split=5, n_estimators=256; total time=   5.4s\n",
      "[CV] END bootstrap=True, max_depth=80, max_features=sqrt, min_samples_leaf=4, min_samples_split=5, n_estimators=256; total time=   5.5s\n",
      "[CV] END bootstrap=False, max_depth=80, max_features=sqrt, min_samples_leaf=1, min_samples_split=5, n_estimators=256; total time=   9.2s\n",
      "[CV] END bootstrap=False, max_depth=80, max_features=sqrt, min_samples_leaf=1, min_samples_split=5, n_estimators=256; total time=   9.8s\n",
      "[CV] END bootstrap=False, max_depth=None, max_features=sqrt, min_samples_leaf=1, min_samples_split=2, n_estimators=217; total time=   8.6s\n",
      "[CV] END bootstrap=False, max_depth=40, max_features=auto, min_samples_leaf=1, min_samples_split=2, n_estimators=256; total time=  32.7s\n",
      "[CV] END bootstrap=True, max_depth=20, max_features=sqrt, min_samples_leaf=2, min_samples_split=2, n_estimators=248; total time=   5.9s\n",
      "[CV] END bootstrap=True, max_depth=20, max_features=sqrt, min_samples_leaf=2, min_samples_split=2, n_estimators=248; total time=   5.8s\n",
      "[CV] END bootstrap=True, max_depth=20, max_features=sqrt, min_samples_leaf=2, min_samples_split=2, n_estimators=248; total time=   5.8s\n",
      "[CV] END bootstrap=False, max_depth=20, max_features=sqrt, min_samples_leaf=4, min_samples_split=10, n_estimators=248; total time=   7.8s\n",
      "[CV] END bootstrap=False, max_depth=50, max_features=sqrt, min_samples_leaf=2, min_samples_split=2, n_estimators=233; total time=   8.0s\n",
      "[CV] END bootstrap=False, max_depth=100, max_features=sqrt, min_samples_leaf=1, min_samples_split=5, n_estimators=233; total time=   8.4s\n",
      "[CV] END bootstrap=True, max_depth=90, max_features=sqrt, min_samples_leaf=4, min_samples_split=2, n_estimators=272; total time=   5.7s\n",
      "[CV] END bootstrap=False, max_depth=20, max_features=sqrt, min_samples_leaf=2, min_samples_split=10, n_estimators=233; total time=   7.2s\n",
      "[CV] END bootstrap=True, max_depth=20, max_features=sqrt, min_samples_leaf=2, min_samples_split=5, n_estimators=248; total time=   5.7s\n",
      "[CV] END bootstrap=True, max_depth=None, max_features=auto, min_samples_leaf=2, min_samples_split=5, n_estimators=233; total time=  17.6s\n",
      "[CV] END bootstrap=True, max_depth=60, max_features=sqrt, min_samples_leaf=2, min_samples_split=2, n_estimators=241; total time=   5.8s\n",
      "[CV] END bootstrap=True, max_depth=60, max_features=sqrt, min_samples_leaf=2, min_samples_split=2, n_estimators=241; total time=   6.4s\n",
      "[CV] END bootstrap=True, max_depth=10, max_features=auto, min_samples_leaf=4, min_samples_split=5, n_estimators=210; total time=  10.2s\n",
      "[CV] END bootstrap=True, max_depth=90, max_features=sqrt, min_samples_leaf=4, min_samples_split=2, n_estimators=233; total time=   5.0s\n",
      "[CV] END bootstrap=True, max_depth=90, max_features=sqrt, min_samples_leaf=4, min_samples_split=10, n_estimators=217; total time=   4.5s\n",
      "[CV] END bootstrap=True, max_depth=110, max_features=sqrt, min_samples_leaf=1, min_samples_split=2, n_estimators=241; total time=   6.7s\n",
      "[CV] END bootstrap=True, max_depth=110, max_features=sqrt, min_samples_leaf=1, min_samples_split=2, n_estimators=241; total time=   7.2s\n",
      "[CV] END bootstrap=True, max_depth=110, max_features=sqrt, min_samples_leaf=1, min_samples_split=2, n_estimators=241; total time=   6.7s\n",
      "[CV] END bootstrap=True, max_depth=90, max_features=auto, min_samples_leaf=2, min_samples_split=2, n_estimators=280; total time=  21.0s\n",
      "[CV] END bootstrap=False, max_depth=70, max_features=sqrt, min_samples_leaf=4, min_samples_split=2, n_estimators=248; total time=   8.2s\n",
      "[CV] END bootstrap=False, max_depth=110, max_features=sqrt, min_samples_leaf=2, min_samples_split=2, n_estimators=225; total time=   7.8s\n",
      "[CV] END bootstrap=False, max_depth=20, max_features=auto, min_samples_leaf=1, min_samples_split=2, n_estimators=272; total time=  33.0s\n",
      "[CV] END bootstrap=False, max_depth=50, max_features=auto, min_samples_leaf=4, min_samples_split=10, n_estimators=241; total time=  25.2s\n",
      "[CV] END bootstrap=False, max_depth=30, max_features=auto, min_samples_leaf=4, min_samples_split=5, n_estimators=241; total time=  25.9s\n",
      "[CV] END bootstrap=False, max_depth=None, max_features=sqrt, min_samples_leaf=2, min_samples_split=5, n_estimators=256; total time=   9.1s\n",
      "[CV] END bootstrap=True, max_depth=10, max_features=auto, min_samples_leaf=1, min_samples_split=5, n_estimators=264; total time=  13.1s\n",
      "[CV] END bootstrap=True, max_depth=80, max_features=auto, min_samples_leaf=2, min_samples_split=2, n_estimators=272; total time=  21.2s\n",
      "[CV] END bootstrap=True, max_depth=80, max_features=sqrt, min_samples_leaf=2, min_samples_split=10, n_estimators=256; total time=   5.6s\n",
      "[CV] END bootstrap=True, max_depth=80, max_features=sqrt, min_samples_leaf=2, min_samples_split=10, n_estimators=256; total time=   5.6s\n",
      "[CV] END bootstrap=True, max_depth=50, max_features=sqrt, min_samples_leaf=1, min_samples_split=2, n_estimators=210; total time=   5.8s\n",
      "[CV] END bootstrap=True, max_depth=10, max_features=sqrt, min_samples_leaf=4, min_samples_split=2, n_estimators=217; total time=   3.4s\n",
      "[CV] END bootstrap=False, max_depth=80, max_features=auto, min_samples_leaf=4, min_samples_split=10, n_estimators=241; total time=  26.0s\n",
      "[CV] END bootstrap=True, max_depth=20, max_features=sqrt, min_samples_leaf=1, min_samples_split=10, n_estimators=264; total time=   5.8s\n",
      "[CV] END bootstrap=True, max_depth=20, max_features=sqrt, min_samples_leaf=1, min_samples_split=10, n_estimators=264; total time=   6.4s\n",
      "[CV] END bootstrap=True, max_depth=None, max_features=auto, min_samples_leaf=2, min_samples_split=10, n_estimators=264; total time=  18.7s\n",
      "[CV] END bootstrap=False, max_depth=10, max_features=auto, min_samples_leaf=4, min_samples_split=2, n_estimators=272; total time=  19.9s[CV] END bootstrap=True, max_depth=30, max_features=sqrt, min_samples_leaf=1, min_samples_split=5, n_estimators=217; total time=   5.7s\n",
      "[CV] END bootstrap=False, max_depth=10, max_features=sqrt, min_samples_leaf=2, min_samples_split=5, n_estimators=248; total time=   5.3s\n",
      "[CV] END bootstrap=False, max_depth=30, max_features=auto, min_samples_leaf=4, min_samples_split=2, n_estimators=280; total time=  30.4s\n",
      "[CV] END bootstrap=False, max_depth=100, max_features=sqrt, min_samples_leaf=2, min_samples_split=5, n_estimators=241; total time=   8.7s\n",
      "[CV] END bootstrap=False, max_depth=60, max_features=sqrt, min_samples_leaf=1, min_samples_split=5, n_estimators=225; total time=   8.0s\n",
      "[CV] END bootstrap=False, max_depth=10, max_features=auto, min_samples_leaf=4, min_samples_split=5, n_estimators=272; total time=  19.7s\n",
      "[CV] END bootstrap=False, max_depth=10, max_features=auto, min_samples_leaf=4, min_samples_split=5, n_estimators=272; total time=  19.7s\n",
      "[CV] END bootstrap=True, max_depth=70, max_features=auto, min_samples_leaf=4, min_samples_split=10, n_estimators=217; total time=  15.0s\n",
      "[CV] END bootstrap=False, max_depth=10, max_features=sqrt, min_samples_leaf=2, min_samples_split=5, n_estimators=264; total time=   5.6s\n",
      "[CV] END bootstrap=False, max_depth=30, max_features=sqrt, min_samples_leaf=2, min_samples_split=10, n_estimators=233; total time=   7.3s\n",
      "[CV] END bootstrap=False, max_depth=50, max_features=auto, min_samples_leaf=4, min_samples_split=2, n_estimators=272; total time=  29.3s\n",
      "[CV] END bootstrap=True, max_depth=20, max_features=sqrt, min_samples_leaf=1, min_samples_split=2, n_estimators=241; total time=   6.3s\n",
      "[CV] END bootstrap=False, max_depth=110, max_features=auto, min_samples_leaf=2, min_samples_split=10, n_estimators=272; total time=  30.4s\n",
      "[CV] END bootstrap=True, max_depth=80, max_features=auto, min_samples_leaf=1, min_samples_split=5, n_estimators=225; total time=  17.4s\n",
      "[CV] END bootstrap=False, max_depth=70, max_features=sqrt, min_samples_leaf=1, min_samples_split=5, n_estimators=264; total time=   9.7s\n",
      "[CV] END bootstrap=True, max_depth=80, max_features=sqrt, min_samples_leaf=4, min_samples_split=5, n_estimators=256; total time=   5.5s\n",
      "[CV] END bootstrap=True, max_depth=None, max_features=auto, min_samples_leaf=2, min_samples_split=2, n_estimators=272; total time=  20.8s\n",
      "[CV] END bootstrap=False, max_depth=None, max_features=sqrt, min_samples_leaf=1, min_samples_split=2, n_estimators=217; total time=   8.5s\n",
      "[CV] END bootstrap=False, max_depth=40, max_features=auto, min_samples_leaf=1, min_samples_split=2, n_estimators=256; total time=  32.8s\n",
      "[CV] END bootstrap=False, max_depth=100, max_features=auto, min_samples_leaf=4, min_samples_split=10, n_estimators=280; total time=  29.9s\n",
      "[CV] END bootstrap=False, max_depth=50, max_features=sqrt, min_samples_leaf=2, min_samples_split=2, n_estimators=233; total time=   8.0s\n",
      "[CV] END bootstrap=True, max_depth=50, max_features=sqrt, min_samples_leaf=4, min_samples_split=10, n_estimators=233; total time=   4.8s\n",
      "[CV] END bootstrap=True, max_depth=50, max_features=sqrt, min_samples_leaf=4, min_samples_split=10, n_estimators=233; total time=   4.9s\n",
      "[CV] END bootstrap=False, max_depth=20, max_features=sqrt, min_samples_leaf=2, min_samples_split=10, n_estimators=233; total time=   7.2s\n",
      "[CV] END bootstrap=True, max_depth=20, max_features=sqrt, min_samples_leaf=2, min_samples_split=5, n_estimators=248; total time=   6.1s\n",
      "[CV] END bootstrap=True, max_depth=100, max_features=auto, min_samples_leaf=1, min_samples_split=2, n_estimators=233; total time=  19.6s\n",
      "[CV] END bootstrap=True, max_depth=60, max_features=sqrt, min_samples_leaf=2, min_samples_split=2, n_estimators=241; total time=   5.9s\n",
      "[CV] END bootstrap=True, max_depth=10, max_features=auto, min_samples_leaf=4, min_samples_split=5, n_estimators=210; total time=  10.3s\n",
      "[CV] END bootstrap=True, max_depth=60, max_features=sqrt, min_samples_leaf=2, min_samples_split=10, n_estimators=225; total time=   4.9s\n",
      "[CV] END bootstrap=True, max_depth=90, max_features=sqrt, min_samples_leaf=4, min_samples_split=2, n_estimators=233; total time=   4.9s\n",
      "[CV] END bootstrap=True, max_depth=90, max_features=sqrt, min_samples_leaf=4, min_samples_split=10, n_estimators=217; total time=   4.5s\n",
      "[CV] END bootstrap=False, max_depth=90, max_features=auto, min_samples_leaf=2, min_samples_split=5, n_estimators=210; total time=  24.7s\n",
      "[CV] END bootstrap=False, max_depth=80, max_features=sqrt, min_samples_leaf=4, min_samples_split=10, n_estimators=217; total time=   6.5s\n",
      "[CV] END bootstrap=False, max_depth=80, max_features=sqrt, min_samples_leaf=4, min_samples_split=10, n_estimators=217; total time=   6.6s\n",
      "[CV] END bootstrap=False, max_depth=80, max_features=sqrt, min_samples_leaf=4, min_samples_split=10, n_estimators=217; total time=   6.6s\n",
      "[CV] END bootstrap=False, max_depth=70, max_features=sqrt, min_samples_leaf=4, min_samples_split=2, n_estimators=248; total time=   7.6s\n",
      "[CV] END bootstrap=False, max_depth=20, max_features=auto, min_samples_leaf=1, min_samples_split=2, n_estimators=272; total time=  32.5s\n",
      "[CV] END bootstrap=False, max_depth=50, max_features=auto, min_samples_leaf=2, min_samples_split=10, n_estimators=280; total time=  30.5s\n",
      "[CV] END bootstrap=False, max_depth=50, max_features=auto, min_samples_leaf=4, min_samples_split=10, n_estimators=241; total time=  25.7s\n",
      "[CV] END bootstrap=False, max_depth=None, max_features=sqrt, min_samples_leaf=2, min_samples_split=5, n_estimators=256; total time=   9.1s\n",
      "[CV] END bootstrap=False, max_depth=60, max_features=sqrt, min_samples_leaf=4, min_samples_split=2, n_estimators=225; total time=   6.9s\n",
      "[CV] END bootstrap=True, max_depth=10, max_features=auto, min_samples_leaf=1, min_samples_split=5, n_estimators=264; total time=  13.1s\n",
      "[CV] END bootstrap=True, max_depth=100, max_features=auto, min_samples_leaf=1, min_samples_split=2, n_estimators=256; total time=  21.7s\n",
      "[CV] END bootstrap=True, max_depth=80, max_features=sqrt, min_samples_leaf=2, min_samples_split=10, n_estimators=256; total time=   5.6s\n",
      "[CV] END bootstrap=True, max_depth=50, max_features=sqrt, min_samples_leaf=1, min_samples_split=2, n_estimators=210; total time=   5.8s\n",
      "[CV] END bootstrap=True, max_depth=10, max_features=sqrt, min_samples_leaf=4, min_samples_split=2, n_estimators=217; total time=   3.4s\n",
      "[CV] END bootstrap=False, max_depth=80, max_features=auto, min_samples_leaf=4, min_samples_split=10, n_estimators=241; total time=  25.7s\n",
      "[CV] END bootstrap=False, max_depth=None, max_features=auto, min_samples_leaf=2, min_samples_split=10, n_estimators=248; total time=  27.2s\n",
      "[CV] END bootstrap=True, max_depth=None, max_features=auto, min_samples_leaf=2, min_samples_split=10, n_estimators=264; total time=  18.8s\n",
      "[CV] END bootstrap=True, max_depth=70, max_features=auto, min_samples_leaf=2, min_samples_split=2, n_estimators=256; total time=  19.5s\n",
      "[CV] END bootstrap=False, max_depth=80, max_features=sqrt, min_samples_leaf=1, min_samples_split=10, n_estimators=241; total time=   7.8s\n",
      "[CV] END bootstrap=False, max_depth=80, max_features=sqrt, min_samples_leaf=4, min_samples_split=2, n_estimators=256; total time=   8.2s\n",
      "[CV] END bootstrap=False, max_depth=80, max_features=sqrt, min_samples_leaf=4, min_samples_split=2, n_estimators=256; total time=   7.8s\n",
      "[CV] END bootstrap=False, max_depth=80, max_features=sqrt, min_samples_leaf=4, min_samples_split=2, n_estimators=256; total time=   7.8s\n",
      "[CV] END bootstrap=False, max_depth=20, max_features=sqrt, min_samples_leaf=4, min_samples_split=2, n_estimators=233; total time=   7.0s\n",
      "[CV] END bootstrap=True, max_depth=60, max_features=sqrt, min_samples_leaf=2, min_samples_split=5, n_estimators=272; total time=   6.4s\n",
      "[CV] END bootstrap=False, max_depth=90, max_features=auto, min_samples_leaf=1, min_samples_split=5, n_estimators=217; total time=  26.5s\n",
      "[CV] END bootstrap=False, max_depth=90, max_features=sqrt, min_samples_leaf=2, min_samples_split=10, n_estimators=217; total time=   6.8s\n",
      "[CV] END bootstrap=True, max_depth=None, max_features=sqrt, min_samples_leaf=1, min_samples_split=10, n_estimators=264; total time=   6.1s\n",
      "[CV] END bootstrap=True, max_depth=None, max_features=sqrt, min_samples_leaf=1, min_samples_split=10, n_estimators=264; total time=   5.9s[CV] END bootstrap=True, max_depth=30, max_features=sqrt, min_samples_leaf=1, min_samples_split=5, n_estimators=217; total time=   5.5s\n",
      "[CV] END bootstrap=True, max_depth=10, max_features=sqrt, min_samples_leaf=1, min_samples_split=5, n_estimators=280; total time=   4.4s\n",
      "[CV] END bootstrap=False, max_depth=30, max_features=auto, min_samples_leaf=4, min_samples_split=2, n_estimators=280; total time=  30.2s\n",
      "[CV] END bootstrap=False, max_depth=30, max_features=sqrt, min_samples_leaf=4, min_samples_split=5, n_estimators=233; total time=   7.3s\n",
      "[CV] END bootstrap=False, max_depth=60, max_features=sqrt, min_samples_leaf=1, min_samples_split=5, n_estimators=225; total time=   8.0s\n",
      "[CV] END bootstrap=False, max_depth=50, max_features=auto, min_samples_leaf=1, min_samples_split=2, n_estimators=241; total time=  30.3s\n",
      "[CV] END bootstrap=True, max_depth=70, max_features=auto, min_samples_leaf=4, min_samples_split=10, n_estimators=217; total time=  14.4s\n",
      "[CV] END bootstrap=False, max_depth=90, max_features=sqrt, min_samples_leaf=1, min_samples_split=5, n_estimators=233; total time=   8.3s\n",
      "[CV] END bootstrap=False, max_depth=10, max_features=sqrt, min_samples_leaf=1, min_samples_split=10, n_estimators=280; total time=   6.2s\n",
      "[CV] END bootstrap=False, max_depth=10, max_features=sqrt, min_samples_leaf=2, min_samples_split=5, n_estimators=264; total time=   5.6s\n",
      "[CV] END bootstrap=False, max_depth=30, max_features=sqrt, min_samples_leaf=2, min_samples_split=10, n_estimators=233; total time=   7.3s\n",
      "[CV] END bootstrap=False, max_depth=70, max_features=auto, min_samples_leaf=2, min_samples_split=5, n_estimators=225; total time=  26.6s\n",
      "[CV] END bootstrap=False, max_depth=70, max_features=auto, min_samples_leaf=2, min_samples_split=5, n_estimators=225; total time=  26.4s\n",
      "[CV] END bootstrap=True, max_depth=80, max_features=auto, min_samples_leaf=1, min_samples_split=5, n_estimators=225; total time=  17.4s\n",
      "[CV] END bootstrap=False, max_depth=30, max_features=sqrt, min_samples_leaf=1, min_samples_split=10, n_estimators=272; total time=   8.9s\n",
      "[CV] END bootstrap=False, max_depth=30, max_features=sqrt, min_samples_leaf=1, min_samples_split=10, n_estimators=272; total time=   9.5s\n",
      "[CV] END bootstrap=False, max_depth=70, max_features=sqrt, min_samples_leaf=1, min_samples_split=5, n_estimators=264; total time=   9.5s\n",
      "[CV] END bootstrap=True, max_depth=None, max_features=auto, min_samples_leaf=2, min_samples_split=2, n_estimators=272; total time=  21.3s\n",
      "[CV] END bootstrap=False, max_depth=None, max_features=sqrt, min_samples_leaf=1, min_samples_split=2, n_estimators=217; total time=   8.5s\n",
      "[CV] END bootstrap=True, max_depth=20, max_features=sqrt, min_samples_leaf=2, min_samples_split=5, n_estimators=241; total time=   5.6s\n",
      "[CV] END bootstrap=True, max_depth=20, max_features=sqrt, min_samples_leaf=2, min_samples_split=5, n_estimators=241; total time=   5.5s\n",
      "[CV] END bootstrap=True, max_depth=20, max_features=sqrt, min_samples_leaf=2, min_samples_split=5, n_estimators=241; total time=   5.6s\n",
      "[CV] END bootstrap=False, max_depth=100, max_features=auto, min_samples_leaf=4, min_samples_split=10, n_estimators=280; total time=  30.2s\n",
      "[CV] END bootstrap=False, max_depth=20, max_features=sqrt, min_samples_leaf=4, min_samples_split=10, n_estimators=248; total time=   7.7s\n",
      "[CV] END bootstrap=False, max_depth=20, max_features=sqrt, min_samples_leaf=4, min_samples_split=10, n_estimators=248; total time=   7.3s\n",
      "[CV] END bootstrap=False, max_depth=100, max_features=sqrt, min_samples_leaf=1, min_samples_split=5, n_estimators=233; total time=   8.4s\n",
      "[CV] END bootstrap=True, max_depth=50, max_features=sqrt, min_samples_leaf=4, min_samples_split=10, n_estimators=233; total time=   4.8s\n",
      "[CV] END bootstrap=True, max_depth=90, max_features=sqrt, min_samples_leaf=4, min_samples_split=2, n_estimators=272; total time=   5.8s\n",
      "[CV] END bootstrap=False, max_depth=20, max_features=sqrt, min_samples_leaf=2, min_samples_split=10, n_estimators=233; total time=   7.7s\n",
      "[CV] END bootstrap=True, max_depth=100, max_features=auto, min_samples_leaf=1, min_samples_split=2, n_estimators=233; total time=  19.3s\n",
      "[CV] END bootstrap=True, max_depth=None, max_features=auto, min_samples_leaf=2, min_samples_split=5, n_estimators=233; total time=  17.9s\n",
      "[CV] END bootstrap=True, max_depth=60, max_features=sqrt, min_samples_leaf=2, min_samples_split=10, n_estimators=225; total time=   4.9s\n",
      "[CV] END bootstrap=True, max_depth=60, max_features=sqrt, min_samples_leaf=2, min_samples_split=10, n_estimators=225; total time=   4.9s\n",
      "[CV] END bootstrap=True, max_depth=90, max_features=sqrt, min_samples_leaf=4, min_samples_split=10, n_estimators=217; total time=   4.5s\n",
      "[CV] END bootstrap=False, max_depth=90, max_features=auto, min_samples_leaf=2, min_samples_split=5, n_estimators=210; total time=  24.0s\n",
      "[CV] END bootstrap=True, max_depth=90, max_features=auto, min_samples_leaf=2, min_samples_split=2, n_estimators=280; total time=  21.1s\n",
      "[CV] END bootstrap=False, max_depth=70, max_features=sqrt, min_samples_leaf=4, min_samples_split=2, n_estimators=248; total time=   7.9s\n",
      "[CV] END bootstrap=False, max_depth=110, max_features=sqrt, min_samples_leaf=2, min_samples_split=2, n_estimators=225; total time=   7.8s\n",
      "[CV] END bootstrap=False, max_depth=50, max_features=auto, min_samples_leaf=2, min_samples_split=10, n_estimators=280; total time=  31.0s\n",
      "[CV] END bootstrap=False, max_depth=50, max_features=auto, min_samples_leaf=4, min_samples_split=10, n_estimators=241; total time=  26.2s\n",
      "[CV] END bootstrap=False, max_depth=30, max_features=auto, min_samples_leaf=4, min_samples_split=5, n_estimators=241; total time=  25.9s\n",
      "[CV] END bootstrap=False, max_depth=None, max_features=sqrt, min_samples_leaf=2, min_samples_split=5, n_estimators=256; total time=   8.7s\n",
      "[CV] END bootstrap=True, max_depth=10, max_features=auto, min_samples_leaf=1, min_samples_split=5, n_estimators=264; total time=  13.1s\n",
      "[CV] END bootstrap=True, max_depth=80, max_features=auto, min_samples_leaf=2, min_samples_split=2, n_estimators=272; total time=  21.0s\n",
      "[CV] END bootstrap=True, max_depth=100, max_features=auto, min_samples_leaf=1, min_samples_split=2, n_estimators=256; total time=  21.2s\n",
      "[CV] END bootstrap=False, max_depth=80, max_features=auto, min_samples_leaf=4, min_samples_split=10, n_estimators=241; total time=  25.5s\n",
      "[CV] END bootstrap=False, max_depth=None, max_features=auto, min_samples_leaf=2, min_samples_split=10, n_estimators=248; total time=  27.8s\n",
      "[CV] END bootstrap=False, max_depth=10, max_features=auto, min_samples_leaf=4, min_samples_split=2, n_estimators=272; total time=  20.0s\n",
      "[CV] END bootstrap=True, max_depth=70, max_features=auto, min_samples_leaf=2, min_samples_split=2, n_estimators=256; total time=  19.2s\n",
      "[CV] END bootstrap=False, max_depth=60, max_features=auto, min_samples_leaf=2, min_samples_split=10, n_estimators=280; total time=  30.8s\n",
      "[CV] END bootstrap=False, max_depth=20, max_features=sqrt, min_samples_leaf=4, min_samples_split=2, n_estimators=233; total time=   7.0s\n",
      "[CV] END bootstrap=False, max_depth=90, max_features=auto, min_samples_leaf=1, min_samples_split=5, n_estimators=217; total time=  25.7s\n",
      "[CV] END bootstrap=True, max_depth=90, max_features=auto, min_samples_leaf=1, min_samples_split=5, n_estimators=264; total time=  20.8s\n",
      "[CV] END bootstrap=True, max_depth=100, max_features=sqrt, min_samples_leaf=1, min_samples_split=5, n_estimators=280; total time=   6.9s\n",
      "[CV] END bootstrap=True, max_depth=10, max_features=sqrt, min_samples_leaf=2, min_samples_split=5, n_estimators=241; total time=   3.8s\n",
      "[CV] END bootstrap=True, max_depth=80, max_features=auto, min_samples_leaf=4, min_samples_split=5, n_estimators=210; total time=  14.4s\n",
      "[CV] END bootstrap=True, max_depth=100, max_features=auto, min_samples_leaf=2, min_samples_split=10, n_estimators=225; total time=  16.2s\n",
      "[CV] END bootstrap=True, max_depth=100, max_features=auto, min_samples_leaf=2, min_samples_split=10, n_estimators=225; total time=  15.9s\n",
      "[CV] END bootstrap=True, max_depth=100, max_features=auto, min_samples_leaf=4, min_samples_split=5, n_estimators=241; total time=  16.6s\n",
      "[CV] END bootstrap=False, max_depth=70, max_features=sqrt, min_samples_leaf=4, min_samples_split=5, n_estimators=233; total time=   7.1s[CV] END bootstrap=True, max_depth=30, max_features=sqrt, min_samples_leaf=1, min_samples_split=5, n_estimators=217; total time=   5.6s\n",
      "[CV] END bootstrap=False, max_depth=10, max_features=sqrt, min_samples_leaf=2, min_samples_split=5, n_estimators=248; total time=   5.3s\n",
      "[CV] END bootstrap=False, max_depth=30, max_features=auto, min_samples_leaf=4, min_samples_split=2, n_estimators=280; total time=  30.0s\n",
      "[CV] END bootstrap=False, max_depth=100, max_features=sqrt, min_samples_leaf=2, min_samples_split=5, n_estimators=241; total time=   8.7s\n",
      "[CV] END bootstrap=False, max_depth=60, max_features=sqrt, min_samples_leaf=1, min_samples_split=5, n_estimators=225; total time=   8.0s\n",
      "[CV] END bootstrap=False, max_depth=50, max_features=auto, min_samples_leaf=1, min_samples_split=2, n_estimators=241; total time=  30.9s\n",
      "[CV] END bootstrap=True, max_depth=70, max_features=auto, min_samples_leaf=4, min_samples_split=10, n_estimators=217; total time=  14.5s\n",
      "[CV] END bootstrap=False, max_depth=90, max_features=sqrt, min_samples_leaf=1, min_samples_split=5, n_estimators=233; total time=   8.7s\n",
      "[CV] END bootstrap=False, max_depth=10, max_features=sqrt, min_samples_leaf=1, min_samples_split=10, n_estimators=280; total time=   6.0s\n",
      "[CV] END bootstrap=False, max_depth=30, max_features=sqrt, min_samples_leaf=2, min_samples_split=10, n_estimators=233; total time=   7.3s\n",
      "[CV] END bootstrap=False, max_depth=50, max_features=auto, min_samples_leaf=4, min_samples_split=2, n_estimators=272; total time=  29.1s\n",
      "[CV] END bootstrap=True, max_depth=20, max_features=sqrt, min_samples_leaf=1, min_samples_split=2, n_estimators=241; total time=   6.3s\n",
      "[CV] END bootstrap=True, max_depth=20, max_features=sqrt, min_samples_leaf=1, min_samples_split=2, n_estimators=241; total time=   6.2s\n",
      "[CV] END bootstrap=False, max_depth=110, max_features=auto, min_samples_leaf=2, min_samples_split=10, n_estimators=272; total time=  30.0s\n",
      "[CV] END bootstrap=True, max_depth=80, max_features=auto, min_samples_leaf=1, min_samples_split=5, n_estimators=225; total time=  17.8s\n",
      "[CV] END bootstrap=False, max_depth=70, max_features=sqrt, min_samples_leaf=1, min_samples_split=5, n_estimators=264; total time=   9.4s\n",
      "[CV] END bootstrap=True, max_depth=None, max_features=auto, min_samples_leaf=2, min_samples_split=2, n_estimators=272; total time=  20.4s\n",
      "[CV] END bootstrap=False, max_depth=80, max_features=sqrt, min_samples_leaf=1, min_samples_split=5, n_estimators=256; total time=   9.2s\n",
      "[CV] END bootstrap=False, max_depth=40, max_features=auto, min_samples_leaf=1, min_samples_split=2, n_estimators=256; total time=  32.2s\n",
      "[CV] END bootstrap=False, max_depth=100, max_features=auto, min_samples_leaf=4, min_samples_split=10, n_estimators=280; total time=  29.4s\n",
      "[CV] END bootstrap=False, max_depth=50, max_features=sqrt, min_samples_leaf=2, min_samples_split=2, n_estimators=233; total time=   8.1s\n",
      "[CV] END bootstrap=False, max_depth=100, max_features=sqrt, min_samples_leaf=1, min_samples_split=5, n_estimators=233; total time=   8.4s\n",
      "[CV] END bootstrap=True, max_depth=90, max_features=sqrt, min_samples_leaf=4, min_samples_split=2, n_estimators=272; total time=   5.8s\n",
      "[CV] END bootstrap=True, max_depth=20, max_features=sqrt, min_samples_leaf=2, min_samples_split=5, n_estimators=248; total time=   6.1s\n",
      "[CV] END bootstrap=True, max_depth=100, max_features=auto, min_samples_leaf=1, min_samples_split=2, n_estimators=233; total time=  19.4s\n",
      "[CV] END bootstrap=True, max_depth=None, max_features=auto, min_samples_leaf=2, min_samples_split=5, n_estimators=233; total time=  17.6s\n",
      "[CV] END bootstrap=True, max_depth=10, max_features=auto, min_samples_leaf=4, min_samples_split=5, n_estimators=210; total time=  10.2s\n",
      "[CV] END bootstrap=True, max_depth=90, max_features=sqrt, min_samples_leaf=4, min_samples_split=2, n_estimators=233; total time=   5.0s\n",
      "[CV] END bootstrap=False, max_depth=90, max_features=auto, min_samples_leaf=2, min_samples_split=5, n_estimators=210; total time=  24.7s\n",
      "[CV] END bootstrap=True, max_depth=90, max_features=auto, min_samples_leaf=2, min_samples_split=2, n_estimators=280; total time=  21.6s\n",
      "[CV] END bootstrap=False, max_depth=110, max_features=sqrt, min_samples_leaf=2, min_samples_split=2, n_estimators=225; total time=   7.8s\n",
      "[CV] END bootstrap=False, max_depth=20, max_features=auto, min_samples_leaf=1, min_samples_split=2, n_estimators=272; total time=  32.5s\n",
      "[CV] END bootstrap=False, max_depth=50, max_features=auto, min_samples_leaf=2, min_samples_split=10, n_estimators=280; total time=  31.1s\n",
      "[CV] END bootstrap=False, max_depth=30, max_features=auto, min_samples_leaf=4, min_samples_split=5, n_estimators=241; total time=  26.5s\n",
      "[CV] END bootstrap=False, max_depth=60, max_features=sqrt, min_samples_leaf=4, min_samples_split=2, n_estimators=225; total time=   7.0s\n",
      "[CV] END bootstrap=False, max_depth=60, max_features=sqrt, min_samples_leaf=4, min_samples_split=2, n_estimators=225; total time=   6.9s\n",
      "[CV] END bootstrap=True, max_depth=80, max_features=auto, min_samples_leaf=2, min_samples_split=2, n_estimators=272; total time=  20.8s\n",
      "[CV] END bootstrap=True, max_depth=100, max_features=auto, min_samples_leaf=1, min_samples_split=2, n_estimators=256; total time=  21.1s\n",
      "[CV] END bootstrap=True, max_depth=50, max_features=sqrt, min_samples_leaf=1, min_samples_split=2, n_estimators=210; total time=   5.8s\n",
      "[CV] END bootstrap=True, max_depth=10, max_features=sqrt, min_samples_leaf=4, min_samples_split=2, n_estimators=217; total time=   3.4s\n",
      "[CV] END bootstrap=False, max_depth=None, max_features=auto, min_samples_leaf=2, min_samples_split=10, n_estimators=248; total time=  27.9s\n",
      "[CV] END bootstrap=True, max_depth=20, max_features=sqrt, min_samples_leaf=1, min_samples_split=10, n_estimators=264; total time=   6.1s\n",
      "[CV] END bootstrap=True, max_depth=None, max_features=auto, min_samples_leaf=2, min_samples_split=10, n_estimators=264; total time=  18.4s\n",
      "[CV] END bootstrap=False, max_depth=10, max_features=auto, min_samples_leaf=4, min_samples_split=2, n_estimators=272; total time=  19.7s\n",
      "[CV] END bootstrap=True, max_depth=70, max_features=auto, min_samples_leaf=2, min_samples_split=2, n_estimators=256; total time=  19.3s\n",
      "[CV] END bootstrap=False, max_depth=60, max_features=auto, min_samples_leaf=2, min_samples_split=10, n_estimators=280; total time=  31.0s\n",
      "[CV] END bootstrap=True, max_depth=60, max_features=sqrt, min_samples_leaf=2, min_samples_split=5, n_estimators=272; total time=   6.4s\n",
      "[CV] END bootstrap=True, max_depth=60, max_features=sqrt, min_samples_leaf=2, min_samples_split=5, n_estimators=272; total time=   6.4s\n",
      "[CV] END bootstrap=True, max_depth=90, max_features=auto, min_samples_leaf=1, min_samples_split=5, n_estimators=264; total time=  20.8s\n",
      "[CV] END bootstrap=False, max_depth=90, max_features=sqrt, min_samples_leaf=2, min_samples_split=10, n_estimators=217; total time=   6.8s\n",
      "[CV] END bootstrap=False, max_depth=90, max_features=sqrt, min_samples_leaf=2, min_samples_split=10, n_estimators=217; total time=   7.3s\n",
      "[CV] END bootstrap=True, max_depth=None, max_features=sqrt, min_samples_leaf=1, min_samples_split=10, n_estimators=264; total time=   5.9s\n",
      "[CV] END bootstrap=True, max_depth=100, max_features=sqrt, min_samples_leaf=1, min_samples_split=5, n_estimators=280; total time=   6.9s\n",
      "[CV] END bootstrap=True, max_depth=10, max_features=sqrt, min_samples_leaf=2, min_samples_split=5, n_estimators=241; total time=   3.8s\n",
      "[CV] END bootstrap=False, max_depth=60, max_features=auto, min_samples_leaf=4, min_samples_split=2, n_estimators=280; total time=  30.7s\n",
      "[CV] END bootstrap=True, max_depth=100, max_features=auto, min_samples_leaf=2, min_samples_split=10, n_estimators=225; total time=  16.0s\n",
      "[CV] END bootstrap=False, max_depth=None, max_features=auto, min_samples_leaf=2, min_samples_split=10, n_estimators=233; total time=  26.3s\n",
      "[CV] END bootstrap=False, max_depth=70, max_features=sqrt, min_samples_leaf=4, min_samples_split=5, n_estimators=233; total time=   7.2s\n",
      "[CV] END bootstrap=False, max_depth=40, max_features=sqrt, min_samples_leaf=1, min_samples_split=10, n_estimators=225; total time=   7.5s\n",
      "[CV] END bootstrap=True, max_depth=100, max_features=sqrt, min_samples_leaf=1, min_samples_split=5, n_estimators=217; total time=   5.4s"
     ]
    },
    {
     "data": {
      "text/plain": [
       "RandomizedSearchCV(cv=3, estimator=RandomForestRegressor(), n_iter=100,\n",
       "                   n_jobs=-1,\n",
       "                   param_distributions={'bootstrap': [True, False],\n",
       "                                        'max_depth': [10, 20, 30, 40, 50, 60,\n",
       "                                                      70, 80, 90, 100, 110,\n",
       "                                                      None],\n",
       "                                        'max_features': ['auto', 'sqrt'],\n",
       "                                        'min_samples_leaf': [1, 2, 4],\n",
       "                                        'min_samples_split': [2, 5, 10],\n",
       "                                        'n_estimators': [210, 217, 225, 233,\n",
       "                                                         241, 248, 256, 264,\n",
       "                                                         272, 280]},\n",
       "                   random_state=42, verbose=2)"
      ]
     },
     "execution_count": 35,
     "metadata": {},
     "output_type": "execute_result"
    }
   ],
   "source": [
    "# Use the random grid to search for best hyperparameters\n",
    "# First create the base model to tune\n",
    "rf = RandomForestRegressor()\n",
    "# Random search of parameters, using 3 fold cross validation, \n",
    "# search across 100 different combinations, and use all available cores\n",
    "rf_random = RandomizedSearchCV(estimator = rf, param_distributions = random_grid, n_iter = 100, cv = 3, verbose=2, random_state=42, n_jobs = -1)\n",
    "# Fit the random search model\n",
    "rf_random.fit(x_new,y_new)"
   ]
  },
  {
   "cell_type": "code",
   "execution_count": 36,
   "id": "95d27f02",
   "metadata": {
    "execution": {
     "iopub.execute_input": "2022-07-22T12:27:23.662873Z",
     "iopub.status.busy": "2022-07-22T12:27:23.662255Z",
     "iopub.status.idle": "2022-07-22T12:27:23.669311Z",
     "shell.execute_reply": "2022-07-22T12:27:23.668317Z"
    },
    "papermill": {
     "duration": 0.028234,
     "end_time": "2022-07-22T12:27:23.671318",
     "exception": false,
     "start_time": "2022-07-22T12:27:23.643084",
     "status": "completed"
    },
    "tags": []
   },
   "outputs": [
    {
     "data": {
      "text/plain": [
       "{'n_estimators': 217,\n",
       " 'min_samples_split': 2,\n",
       " 'min_samples_leaf': 1,\n",
       " 'max_features': 'sqrt',\n",
       " 'max_depth': None,\n",
       " 'bootstrap': False}"
      ]
     },
     "execution_count": 36,
     "metadata": {},
     "output_type": "execute_result"
    }
   ],
   "source": [
    "rf_random.best_params_"
   ]
  },
  {
   "cell_type": "code",
   "execution_count": 37,
   "id": "69ddcd02",
   "metadata": {
    "execution": {
     "iopub.execute_input": "2022-07-22T12:27:23.708233Z",
     "iopub.status.busy": "2022-07-22T12:27:23.707600Z",
     "iopub.status.idle": "2022-07-22T12:27:23.759607Z",
     "shell.execute_reply": "2022-07-22T12:27:23.758785Z"
    },
    "papermill": {
     "duration": 0.073323,
     "end_time": "2022-07-22T12:27:23.761992",
     "exception": false,
     "start_time": "2022-07-22T12:27:23.688669",
     "status": "completed"
    },
    "tags": []
   },
   "outputs": [],
   "source": [
    "test= pd.read_csv('../input/dataset/test.csv')\n",
    "test.drop(['id','title'], axis=1, inplace=True)\n",
    "test['maincateg']=test['maincateg'].fillna('Women')\n",
    "test['Rating']=test['Rating'].fillna(test['Rating'].mean())\n",
    "test['star_5f']=test['star_5f'].fillna(test['star_5f'].mean())\n",
    "test['star_4f']=test['star_4f'].fillna(test['star_4f'].mean())\n",
    "test['star_1f']=test['star_1f'].fillna(test['star_1f'].mean())\n",
    "test['maincateg']=le.fit_transform(test['maincateg'])\n",
    "test['platform']=le.fit_transform(test['platform'])"
   ]
  },
  {
   "cell_type": "code",
   "execution_count": 38,
   "id": "e3da9832",
   "metadata": {
    "execution": {
     "iopub.execute_input": "2022-07-22T12:27:23.799042Z",
     "iopub.status.busy": "2022-07-22T12:27:23.798425Z",
     "iopub.status.idle": "2022-07-22T12:27:23.811250Z",
     "shell.execute_reply": "2022-07-22T12:27:23.810115Z"
    },
    "papermill": {
     "duration": 0.034222,
     "end_time": "2022-07-22T12:27:23.813451",
     "exception": false,
     "start_time": "2022-07-22T12:27:23.779229",
     "status": "completed"
    },
    "tags": []
   },
   "outputs": [
    {
     "data": {
      "text/plain": [
       "array([[-0.71317614, -1.20197972,  0.14224438, ...,  2.95910362,\n",
       "         3.6455875 ,  0.80886258],\n",
       "       [-0.37532059,  0.83196079,  0.14224438, ...,  0.04560127,\n",
       "         0.04978268,  0.80886258],\n",
       "       [-0.37532059,  0.83196079,  0.14224438, ..., -0.19828179,\n",
       "        -0.22076351,  0.80886258],\n",
       "       ...,\n",
       "       [-0.71317614,  0.83196079,  0.14224438, ..., -0.09843705,\n",
       "        -0.11844786, -1.23630395],\n",
       "       [-0.37532059,  0.83196079,  0.14224438, ...,  0.28457394,\n",
       "         0.2583492 , -1.23630395],\n",
       "       [-0.37532059,  0.83196079, -7.03015483, ..., -0.25229616,\n",
       "        -0.1951846 ,  0.80886258]])"
      ]
     },
     "execution_count": 38,
     "metadata": {},
     "output_type": "execute_result"
    }
   ],
   "source": [
    "ss.fit_transform(test)"
   ]
  },
  {
   "cell_type": "code",
   "execution_count": 39,
   "id": "bd003ec6",
   "metadata": {
    "execution": {
     "iopub.execute_input": "2022-07-22T12:27:23.850968Z",
     "iopub.status.busy": "2022-07-22T12:27:23.850364Z",
     "iopub.status.idle": "2022-07-22T12:27:23.856598Z",
     "shell.execute_reply": "2022-07-22T12:27:23.855802Z"
    },
    "papermill": {
     "duration": 0.027746,
     "end_time": "2022-07-22T12:27:23.858624",
     "exception": false,
     "start_time": "2022-07-22T12:27:23.830878",
     "status": "completed"
    },
    "tags": []
   },
   "outputs": [
    {
     "data": {
      "text/plain": [
       "(5244, 12)"
      ]
     },
     "execution_count": 39,
     "metadata": {},
     "output_type": "execute_result"
    }
   ],
   "source": [
    "test.shape"
   ]
  },
  {
   "cell_type": "code",
   "execution_count": 40,
   "id": "18386d0b",
   "metadata": {
    "execution": {
     "iopub.execute_input": "2022-07-22T12:27:23.896989Z",
     "iopub.status.busy": "2022-07-22T12:27:23.896355Z",
     "iopub.status.idle": "2022-07-22T12:27:24.035354Z",
     "shell.execute_reply": "2022-07-22T12:27:24.033851Z"
    },
    "papermill": {
     "duration": 0.161282,
     "end_time": "2022-07-22T12:27:24.037604",
     "exception": true,
     "start_time": "2022-07-22T12:27:23.876322",
     "status": "failed"
    },
    "tags": []
   },
   "outputs": [
    {
     "ename": "NotFittedError",
     "evalue": "This RandomForestRegressor instance is not fitted yet. Call 'fit' with appropriate arguments before using this estimator.",
     "output_type": "error",
     "traceback": [
      "\u001b[0;31m---------------------------------------------------------------------------\u001b[0m",
      "\u001b[0;31mNotFittedError\u001b[0m                            Traceback (most recent call last)",
      "\u001b[0;32m/tmp/ipykernel_18/49125820.py\u001b[0m in \u001b[0;36m<module>\u001b[0;34m\u001b[0m\n\u001b[0;32m----> 1\u001b[0;31m \u001b[0mpredicted\u001b[0m\u001b[0;34m=\u001b[0m\u001b[0mrf\u001b[0m\u001b[0;34m.\u001b[0m\u001b[0mpredict\u001b[0m\u001b[0;34m(\u001b[0m\u001b[0mtest\u001b[0m\u001b[0;34m)\u001b[0m\u001b[0;34m\u001b[0m\u001b[0;34m\u001b[0m\u001b[0m\n\u001b[0m\u001b[1;32m      2\u001b[0m \u001b[0;31m#predicted=dt.predict(test)\u001b[0m\u001b[0;34m\u001b[0m\u001b[0;34m\u001b[0m\u001b[0;34m\u001b[0m\u001b[0m\n\u001b[1;32m      3\u001b[0m \u001b[0mpredicted\u001b[0m\u001b[0;34m.\u001b[0m\u001b[0mtranspose\u001b[0m\u001b[0;34m(\u001b[0m\u001b[0;34m)\u001b[0m\u001b[0;34m\u001b[0m\u001b[0;34m\u001b[0m\u001b[0m\n\u001b[1;32m      4\u001b[0m \u001b[0mpredicted\u001b[0m\u001b[0;34m.\u001b[0m\u001b[0mtofile\u001b[0m\u001b[0;34m(\u001b[0m\u001b[0;34m'Finalsubmission7.csv'\u001b[0m\u001b[0;34m,\u001b[0m\u001b[0msep\u001b[0m\u001b[0;34m=\u001b[0m\u001b[0;34m','\u001b[0m\u001b[0;34m)\u001b[0m\u001b[0;34m\u001b[0m\u001b[0;34m\u001b[0m\u001b[0m\n",
      "\u001b[0;32m/opt/conda/lib/python3.7/site-packages/sklearn/ensemble/_forest.py\u001b[0m in \u001b[0;36mpredict\u001b[0;34m(self, X)\u001b[0m\n\u001b[1;32m    967\u001b[0m             \u001b[0mThe\u001b[0m \u001b[0mpredicted\u001b[0m \u001b[0mvalues\u001b[0m\u001b[0;34m.\u001b[0m\u001b[0;34m\u001b[0m\u001b[0;34m\u001b[0m\u001b[0m\n\u001b[1;32m    968\u001b[0m         \"\"\"\n\u001b[0;32m--> 969\u001b[0;31m         \u001b[0mcheck_is_fitted\u001b[0m\u001b[0;34m(\u001b[0m\u001b[0mself\u001b[0m\u001b[0;34m)\u001b[0m\u001b[0;34m\u001b[0m\u001b[0;34m\u001b[0m\u001b[0m\n\u001b[0m\u001b[1;32m    970\u001b[0m         \u001b[0;31m# Check data\u001b[0m\u001b[0;34m\u001b[0m\u001b[0;34m\u001b[0m\u001b[0;34m\u001b[0m\u001b[0m\n\u001b[1;32m    971\u001b[0m         \u001b[0mX\u001b[0m \u001b[0;34m=\u001b[0m \u001b[0mself\u001b[0m\u001b[0;34m.\u001b[0m\u001b[0m_validate_X_predict\u001b[0m\u001b[0;34m(\u001b[0m\u001b[0mX\u001b[0m\u001b[0;34m)\u001b[0m\u001b[0;34m\u001b[0m\u001b[0;34m\u001b[0m\u001b[0m\n",
      "\u001b[0;32m/opt/conda/lib/python3.7/site-packages/sklearn/utils/validation.py\u001b[0m in \u001b[0;36mcheck_is_fitted\u001b[0;34m(estimator, attributes, msg, all_or_any)\u001b[0m\n\u001b[1;32m   1220\u001b[0m \u001b[0;34m\u001b[0m\u001b[0m\n\u001b[1;32m   1221\u001b[0m     \u001b[0;32mif\u001b[0m \u001b[0;32mnot\u001b[0m \u001b[0mfitted\u001b[0m\u001b[0;34m:\u001b[0m\u001b[0;34m\u001b[0m\u001b[0;34m\u001b[0m\u001b[0m\n\u001b[0;32m-> 1222\u001b[0;31m         \u001b[0;32mraise\u001b[0m \u001b[0mNotFittedError\u001b[0m\u001b[0;34m(\u001b[0m\u001b[0mmsg\u001b[0m \u001b[0;34m%\u001b[0m \u001b[0;34m{\u001b[0m\u001b[0;34m\"name\"\u001b[0m\u001b[0;34m:\u001b[0m \u001b[0mtype\u001b[0m\u001b[0;34m(\u001b[0m\u001b[0mestimator\u001b[0m\u001b[0;34m)\u001b[0m\u001b[0;34m.\u001b[0m\u001b[0m__name__\u001b[0m\u001b[0;34m}\u001b[0m\u001b[0;34m)\u001b[0m\u001b[0;34m\u001b[0m\u001b[0;34m\u001b[0m\u001b[0m\n\u001b[0m\u001b[1;32m   1223\u001b[0m \u001b[0;34m\u001b[0m\u001b[0m\n\u001b[1;32m   1224\u001b[0m \u001b[0;34m\u001b[0m\u001b[0m\n",
      "\u001b[0;31mNotFittedError\u001b[0m: This RandomForestRegressor instance is not fitted yet. Call 'fit' with appropriate arguments before using this estimator."
     ]
    }
   ],
   "source": [
    "predicted=rf.predict(test)\n",
    "#predicted=dt.predict(test)\n",
    "predicted.transpose()\n",
    "predicted.tofile('Finalsubmission7.csv',sep=',')"
   ]
  },
  {
   "cell_type": "code",
   "execution_count": null,
   "id": "c4e69df1",
   "metadata": {
    "papermill": {
     "duration": null,
     "end_time": null,
     "exception": null,
     "start_time": null,
     "status": "pending"
    },
    "tags": []
   },
   "outputs": [],
   "source": []
  }
 ],
 "metadata": {
  "kernelspec": {
   "display_name": "Python 3",
   "language": "python",
   "name": "python3"
  },
  "language_info": {
   "codemirror_mode": {
    "name": "ipython",
    "version": 3
   },
   "file_extension": ".py",
   "mimetype": "text/x-python",
   "name": "python",
   "nbconvert_exporter": "python",
   "pygments_lexer": "ipython3",
   "version": "3.7.12"
  },
  "papermill": {
   "default_parameters": {},
   "duration": 1022.662522,
   "end_time": "2022-07-22T12:27:26.679334",
   "environment_variables": {},
   "exception": true,
   "input_path": "__notebook__.ipynb",
   "output_path": "__notebook__.ipynb",
   "parameters": {},
   "start_time": "2022-07-22T12:10:24.016812",
   "version": "2.3.4"
  }
 },
 "nbformat": 4,
 "nbformat_minor": 5
}
